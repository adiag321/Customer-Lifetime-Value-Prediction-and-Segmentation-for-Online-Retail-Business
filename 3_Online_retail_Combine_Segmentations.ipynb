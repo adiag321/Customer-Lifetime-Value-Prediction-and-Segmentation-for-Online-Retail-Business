{
 "cells": [
  {
   "cell_type": "markdown",
   "metadata": {
    "colab_type": "text",
    "id": "view-in-github"
   },
   "source": [
    "<a href=\"/adiag321/Customer-Segmentation-and-Analysis-of-Online-Retail/blob/main/Online_retail_Combine_Segmentations.ipynb\" target=\"_parent\"><img src=\"https://colab.research.google.com/assets/colab-badge.svg\" alt=\"Open In Colab\"/></a>"
   ]
  },
  {
   "cell_type": "markdown",
   "metadata": {
    "id": "vMgo0NvkNM1C"
   },
   "source": [
    "# Customer Segmentaion of online retail customers\n",
    "## Part III - Combine Segmentations"
   ]
  },
  {
   "cell_type": "markdown",
   "metadata": {
    "id": "JJosaWskQR6X"
   },
   "source": [
    "## Introduction\n",
    "In this notebook wecombine the two customer segmentations of online retail customers dataset ( [Online Retail II Data Set](https://archive.ics.uci.edu/ml/datasets/Online+Retail+II) from UC Irvine Machine Learning Repository)\n",
    "\n",
    "Specifiacally, we combine\n",
    "* Customer [segmentation by category](https://github.com/dpanagop/data_analytics_examples/blob/master/online_retail/Online_retail_Segmentation_by_buying_category.ipynb) of bought items description and\n",
    "* Customer [segmentation by RFM and country](https://github.com/dpanagop/data_analytics_examples/blob/master/online_retail/Online_retail_Segmentation_by_RFM_Country.ipynb)."
   ]
  },
  {
   "cell_type": "markdown",
   "metadata": {
    "id": "JqY04x3ePHbb"
   },
   "source": [
    "## Loading libraries and results of segmentations\n"
   ]
  },
  {
   "cell_type": "code",
   "execution_count": 8,
   "metadata": {
    "id": "SQd4r1DQ23sa"
   },
   "outputs": [],
   "source": [
    "import pandas as pd\n",
    "import numpy as np\n",
    "import matplotlib.pyplot as plt\n",
    "import seaborn as sns\n",
    "import warnings\n",
    "warnings.filterwarnings(\"ignore\")\n",
    "sns.set_style(\"whitegrid\")"
   ]
  },
  {
   "cell_type": "code",
   "execution_count": 4,
   "metadata": {
    "colab": {
     "base_uri": "https://localhost:8080/",
     "height": 206
    },
    "id": "cwZSxK9P3PM0",
    "outputId": "f2f2822d-6489-455e-ff23-4db823c5d0c7"
   },
   "outputs": [
    {
     "data": {
      "text/html": [
       "<div>\n",
       "<style scoped>\n",
       "    .dataframe tbody tr th:only-of-type {\n",
       "        vertical-align: middle;\n",
       "    }\n",
       "\n",
       "    .dataframe tbody tr th {\n",
       "        vertical-align: top;\n",
       "    }\n",
       "\n",
       "    .dataframe thead th {\n",
       "        text-align: right;\n",
       "    }\n",
       "</style>\n",
       "<table border=\"1\" class=\"dataframe\">\n",
       "  <thead>\n",
       "    <tr style=\"text-align: right;\">\n",
       "      <th>category</th>\n",
       "      <th>Customer ID</th>\n",
       "      <th>0</th>\n",
       "      <th>1</th>\n",
       "      <th>2</th>\n",
       "      <th>3</th>\n",
       "      <th>cluster</th>\n",
       "    </tr>\n",
       "  </thead>\n",
       "  <tbody>\n",
       "    <tr>\n",
       "      <th>0</th>\n",
       "      <td>12346.0</td>\n",
       "      <td>0.841716</td>\n",
       "      <td>0.000000</td>\n",
       "      <td>0.158284</td>\n",
       "      <td>0.000000</td>\n",
       "      <td>1</td>\n",
       "    </tr>\n",
       "    <tr>\n",
       "      <th>1</th>\n",
       "      <td>12347.0</td>\n",
       "      <td>0.853972</td>\n",
       "      <td>0.101290</td>\n",
       "      <td>0.004168</td>\n",
       "      <td>0.040569</td>\n",
       "      <td>1</td>\n",
       "    </tr>\n",
       "    <tr>\n",
       "      <th>2</th>\n",
       "      <td>12348.0</td>\n",
       "      <td>0.910270</td>\n",
       "      <td>0.000000</td>\n",
       "      <td>0.046648</td>\n",
       "      <td>0.043082</td>\n",
       "      <td>1</td>\n",
       "    </tr>\n",
       "    <tr>\n",
       "      <th>3</th>\n",
       "      <td>12349.0</td>\n",
       "      <td>0.924907</td>\n",
       "      <td>0.008446</td>\n",
       "      <td>0.002316</td>\n",
       "      <td>0.064331</td>\n",
       "      <td>1</td>\n",
       "    </tr>\n",
       "    <tr>\n",
       "      <th>4</th>\n",
       "      <td>12350.0</td>\n",
       "      <td>0.938995</td>\n",
       "      <td>0.061005</td>\n",
       "      <td>0.000000</td>\n",
       "      <td>0.000000</td>\n",
       "      <td>1</td>\n",
       "    </tr>\n",
       "  </tbody>\n",
       "</table>\n",
       "</div>"
      ],
      "text/plain": [
       "category  Customer ID         0         1         2         3  cluster\n",
       "0             12346.0  0.841716  0.000000  0.158284  0.000000        1\n",
       "1             12347.0  0.853972  0.101290  0.004168  0.040569        1\n",
       "2             12348.0  0.910270  0.000000  0.046648  0.043082        1\n",
       "3             12349.0  0.924907  0.008446  0.002316  0.064331        1\n",
       "4             12350.0  0.938995  0.061005  0.000000  0.000000        1"
      ]
     },
     "execution_count": 4,
     "metadata": {},
     "output_type": "execute_result"
    }
   ],
   "source": [
    "customer_spending_per_category=pd.read_pickle('/Users/adityaagarwal/Aditya Ag/Jupyter Notebook/Resume Projects/Customer Segmentation and Analysis of Online Retail/customer_segments_buying_categories.pickle')\n",
    "customer_spending_per_category.head()"
   ]
  },
  {
   "cell_type": "code",
   "execution_count": 5,
   "metadata": {
    "colab": {
     "base_uri": "https://localhost:8080/",
     "height": 238
    },
    "id": "Z5MVReoK_Cff",
    "outputId": "3d50340d-cbf6-4fe1-f8af-3a4c49fbfb4a"
   },
   "outputs": [
    {
     "data": {
      "text/html": [
       "<div>\n",
       "<style scoped>\n",
       "    .dataframe tbody tr th:only-of-type {\n",
       "        vertical-align: middle;\n",
       "    }\n",
       "\n",
       "    .dataframe tbody tr th {\n",
       "        vertical-align: top;\n",
       "    }\n",
       "\n",
       "    .dataframe thead th {\n",
       "        text-align: right;\n",
       "    }\n",
       "</style>\n",
       "<table border=\"1\" class=\"dataframe\">\n",
       "  <thead>\n",
       "    <tr style=\"text-align: right;\">\n",
       "      <th></th>\n",
       "      <th>recency</th>\n",
       "      <th>frequency</th>\n",
       "      <th>monetary_value</th>\n",
       "      <th>weighted GDP</th>\n",
       "      <th>cluster</th>\n",
       "    </tr>\n",
       "    <tr>\n",
       "      <th>Customer ID</th>\n",
       "      <th></th>\n",
       "      <th></th>\n",
       "      <th></th>\n",
       "      <th></th>\n",
       "      <th></th>\n",
       "    </tr>\n",
       "  </thead>\n",
       "  <tbody>\n",
       "    <tr>\n",
       "      <th>12346.0</th>\n",
       "      <td>325</td>\n",
       "      <td>42.647059</td>\n",
       "      <td>-3.804706</td>\n",
       "      <td>2638296.0</td>\n",
       "      <td>3</td>\n",
       "    </tr>\n",
       "    <tr>\n",
       "      <th>12347.0</th>\n",
       "      <td>1</td>\n",
       "      <td>50.375000</td>\n",
       "      <td>704.165000</td>\n",
       "      <td>20805.0</td>\n",
       "      <td>1</td>\n",
       "    </tr>\n",
       "    <tr>\n",
       "      <th>12348.0</th>\n",
       "      <td>74</td>\n",
       "      <td>87.400000</td>\n",
       "      <td>403.880000</td>\n",
       "      <td>267856.0</td>\n",
       "      <td>1</td>\n",
       "    </tr>\n",
       "    <tr>\n",
       "      <th>12349.0</th>\n",
       "      <td>18</td>\n",
       "      <td>147.000000</td>\n",
       "      <td>880.908000</td>\n",
       "      <td>1848222.0</td>\n",
       "      <td>0</td>\n",
       "    </tr>\n",
       "    <tr>\n",
       "      <th>12350.0</th>\n",
       "      <td>309</td>\n",
       "      <td>309.000000</td>\n",
       "      <td>334.400000</td>\n",
       "      <td>366386.0</td>\n",
       "      <td>1</td>\n",
       "    </tr>\n",
       "  </tbody>\n",
       "</table>\n",
       "</div>"
      ],
      "text/plain": [
       "             recency   frequency  monetary_value  weighted GDP  cluster\n",
       "Customer ID                                                            \n",
       "12346.0          325   42.647059       -3.804706     2638296.0        3\n",
       "12347.0            1   50.375000      704.165000       20805.0        1\n",
       "12348.0           74   87.400000      403.880000      267856.0        1\n",
       "12349.0           18  147.000000      880.908000     1848222.0        0\n",
       "12350.0          309  309.000000      334.400000      366386.0        1"
      ]
     },
     "execution_count": 5,
     "metadata": {},
     "output_type": "execute_result"
    }
   ],
   "source": [
    "customer_RFM_GDP=pd.read_pickle('/Users/adityaagarwal/Aditya Ag/Jupyter Notebook/Resume Projects/Customer Segmentation and Analysis of Online Retail/customer_segments_RFM_country.pickle')\n",
    "customer_RFM_GDP.head()"
   ]
  },
  {
   "cell_type": "markdown",
   "metadata": {
    "id": "_6GYpW2j_UXE"
   },
   "source": [
    "As said in [Part I](https://github.com/dpanagop/data_analytics_examples/blob/master/online_retail/Online_retail_Segmentation_by_buying_category.ipynb), clustering based on categories spending resulted infour clusters with all of them having a high percentage of spending in category 0. In addition:\n",
    "* cluster 0 has customers with high spending in category 2,\n",
    "* cluster 1 has high spending only in category 0,\n",
    "* cluster 2 has customers with high spending in category 3,\n",
    "* cluster 3 has customers with high spending in category 1.\n",
    "\n"
   ]
  },
  {
   "cell_type": "code",
   "execution_count": 9,
   "metadata": {
    "colab": {
     "base_uri": "https://localhost:8080/",
     "height": 426
    },
    "id": "kG8PDBIa7KO_",
    "outputId": "c3c359a7-adcc-458c-d3ce-fd8e06c80977"
   },
   "outputs": [
    {
     "name": "stdout",
     "output_type": "stream",
     "text": [
      "category Customer ID         0         1         2         3\n",
      "               count    median    median    median    median\n",
      "cluster                                                     \n",
      "0                421  0.670152  0.007819  0.228504  0.043079\n",
      "1               4287  0.892189  0.015741  0.001038  0.031568\n",
      "2                807  0.672202  0.005246  0.017402  0.246114\n",
      "3                427  0.534162  0.362365  0.000000  0.009505\n",
      "\n",
      "\n"
     ]
    },
    {
     "data": {
      "image/png": "[encoded data removed]",
      "text/plain": [
       "<Figure size 432x288 with 2 Axes>"
      ]
     },
     "metadata": {},
     "output_type": "display_data"
    }
   ],
   "source": [
    "def cluster_profile(customer_spending_per_category):\n",
    "  ''' profile clusters '''\n",
    "  customer_clusters=customer_spending_per_category.groupby(['cluster']).agg({'Customer ID':['count'], \n",
    "                                                         0:'median',\n",
    "                                                         1:'median',\n",
    "                                                         2:'median',\n",
    "                                                         3:'median'})\n",
    "  print(customer_clusters)\n",
    "  print('\\n')\n",
    "  customer_clusters=customer_clusters.drop([('Customer ID', 'count')],1)\n",
    "  customer_clusters.columns=[0,1,2,3]\n",
    "  \n",
    "  customer_clusters[0]=100*customer_clusters[0]\n",
    "  customer_clusters[1]=100*customer_clusters[1]\n",
    "  customer_clusters[2]=100*customer_clusters[2]\n",
    "  customer_clusters[3]=100*customer_clusters[3]\n",
    "  \n",
    "\n",
    "  sns.heatmap(customer_clusters, annot=True,  linewidths=.5)\n",
    "\n",
    "cluster_profile(customer_spending_per_category)"
   ]
  },
  {
   "cell_type": "code",
   "execution_count": 10,
   "metadata": {
    "colab": {
     "base_uri": "https://localhost:8080/"
    },
    "id": "iOGu1o2b_O9H",
    "outputId": "4a30b057-ea03-4212-9ced-d1dbdcce25e4"
   },
   "outputs": [
    {
     "data": {
      "text/plain": [
       "1    4287\n",
       "2     807\n",
       "3     427\n",
       "0     421\n",
       "Name: cluster, dtype: int64"
      ]
     },
     "execution_count": 10,
     "metadata": {},
     "output_type": "execute_result"
    }
   ],
   "source": [
    "customer_spending_per_category['cluster'].value_counts()"
   ]
  },
  {
   "cell_type": "markdown",
   "metadata": {
    "id": "O3A-9wA3ALY4"
   },
   "source": [
    "As for RFM-Country clustering from [Part II](https://github.com/dpanagop/data_analytics_examples/blob/master/online_retail/Online_retail_Segmentation_by_RFM_Country.ipynb), we have four major clusters that can be ranked by RFM score (from best to to worst) as:\n",
    "\n",
    "cluster 4 > cluster 0 > cluster 5 > cluster 2\n",
    "\n",
    "and that cluster 5 has customers from countries with lower GDP than the rest.\n",
    "Thus, we will keep these four clusters plus one more into which we will merge the rest."
   ]
  },
  {
   "cell_type": "code",
   "execution_count": 11,
   "metadata": {
    "colab": {
     "base_uri": "https://localhost:8080/",
     "height": 748
    },
    "id": "njWvI3bc9gd_",
    "outputId": "3bbc8040-7069-461f-89c1-8e26868e77e5"
   },
   "outputs": [
    {
     "name": "stdout",
     "output_type": "stream",
     "text": [
      "        Customer ID recency   frequency monetary_value weighted GDP\n",
      "              count  median      median         median       median\n",
      "cluster                                                            \n",
      "0              3545    34.0   58.636364      243.88020    2638296.0\n",
      "1               246    78.5   92.062500      393.26817     503416.0\n",
      "3              1547   389.0  227.000000      205.25000    2638296.0\n",
      "5               577   619.0  602.000000      167.16000    2638296.0\n",
      "\n",
      "\n",
      "        Customer ID    recency  frequency monetary_value weighted GDP\n",
      "              count     median     median         median       median\n",
      "cluster                                                              \n",
      "0              3545   3.034360   5.985142      24.157117    31.339994\n",
      "1               246   7.005801   9.397020      38.954476     5.980017\n",
      "3              1547  34.716644  23.170385      20.330672    31.339994\n",
      "5               577  55.243195  61.447453      16.557735    31.339994\n",
      "\n",
      "\n",
      "HEAT map\n",
      "Numbers are column percentages\n"
     ]
    },
    {
     "data": {
      "image/png": "[encoded data removed]",
      "text/plain": [
       "<Figure size 432x288 with 2 Axes>"
      ]
     },
     "metadata": {},
     "output_type": "display_data"
    }
   ],
   "source": [
    "def cluster_profile_RFM_country(customer_clustering,cut_off=0):\n",
    "  ''' profile clusters with size equal or bigger than cut_off'''\n",
    "\n",
    "  customer_clusters=customer_clustering.reset_index().groupby(['cluster']).agg({'Customer ID':['count'], \n",
    "                                                         'recency':'median',\n",
    "                                                         'frequency':'median',\n",
    "                                                         'monetary_value':'median',\n",
    "                                                         'weighted GDP':'median'})\n",
    "  idx= customer_clusters['Customer ID']>=cut_off\n",
    "  idx=idx['count'].to_list()\n",
    "  customer_clusters=customer_clusters[idx]\n",
    "  print(customer_clusters)\n",
    "  print('\\n')\n",
    "  customer_clusters_sum=customer_clusters.sum(axis=0)\n",
    "  #print(customer_clusters_sum)\n",
    "  customer_clusters['monetary_value']=100*customer_clusters['monetary_value']/customer_clusters_sum['monetary_value']\n",
    "  customer_clusters['frequency']=100*customer_clusters['frequency']/customer_clusters_sum['frequency']\n",
    "  customer_clusters['recency']=100*customer_clusters['recency']/customer_clusters_sum['recency']\n",
    "  customer_clusters['weighted GDP']=100*customer_clusters['weighted GDP']/customer_clusters_sum['weighted GDP']\n",
    "  print(customer_clusters)\n",
    "  print('\\n')\n",
    "  \n",
    "  print('HEAT map')\n",
    "  print('Numbers are column percentages')\n",
    "  sns.heatmap(customer_clusters.drop(['Customer ID'],axis=1), annot=True,  linewidths=.5)\n",
    "cluster_profile_RFM_country(customer_RFM_GDP,cut_off=100)"
   ]
  },
  {
   "cell_type": "code",
   "execution_count": 16,
   "metadata": {
    "colab": {
     "base_uri": "https://localhost:8080/"
    },
    "id": "6bL3wYQ2Blg3",
    "outputId": "023d404f-951a-4002-e302-730d166ed7b5"
   },
   "outputs": [
    {
     "data": {
      "text/plain": [
       "0    3545\n",
       "3    1547\n",
       "5     577\n",
       "1     246\n",
       "6      17\n",
       "2       9\n",
       "4       1\n",
       "Name: cluster, dtype: int64"
      ]
     },
     "execution_count": 16,
     "metadata": {},
     "output_type": "execute_result"
    }
   ],
   "source": [
    "customer_RFM_GDP['cluster'].value_counts()"
   ]
  },
  {
   "cell_type": "code",
   "execution_count": 17,
   "metadata": {
    "colab": {
     "base_uri": "https://localhost:8080/"
    },
    "id": "JpQX3zOgCwhA",
    "outputId": "e8474378-147e-4a1a-936b-3412eff1b955"
   },
   "outputs": [
    {
     "data": {
      "text/plain": [
       "2    3545\n",
       "5    1810\n",
       "3     577\n",
       "4       9\n",
       "1       1\n",
       "Name: RFM_country_cluster, dtype: int64"
      ]
     },
     "execution_count": 17,
     "metadata": {},
     "output_type": "execute_result"
    }
   ],
   "source": [
    "customer_RFM_GDP['RFM_country_cluster']=5\n",
    "customer_RFM_GDP.loc[customer_RFM_GDP['cluster']==4,'RFM_country_cluster']=1\n",
    "customer_RFM_GDP.loc[customer_RFM_GDP['cluster']==0,'RFM_country_cluster']=2\n",
    "customer_RFM_GDP.loc[customer_RFM_GDP['cluster']==5,'RFM_country_cluster']=3\n",
    "customer_RFM_GDP.loc[customer_RFM_GDP['cluster']==2,'RFM_country_cluster']=4\n",
    "customer_RFM_GDP['RFM_country_cluster'].value_counts()"
   ]
  },
  {
   "cell_type": "code",
   "execution_count": 18,
   "metadata": {
    "colab": {
     "base_uri": "https://localhost:8080/",
     "height": 260
    },
    "id": "tITyzXxfDdHi",
    "outputId": "e1c91bc3-17cc-4e63-a079-fd30a4e40074"
   },
   "outputs": [
    {
     "name": "stdout",
     "output_type": "stream",
     "text": [
      "(5942, 2)\n",
      "(5942, 2)\n",
      "(5942, 3)\n"
     ]
    },
    {
     "data": {
      "text/html": [
       "<div>\n",
       "<style scoped>\n",
       "    .dataframe tbody tr th:only-of-type {\n",
       "        vertical-align: middle;\n",
       "    }\n",
       "\n",
       "    .dataframe tbody tr th {\n",
       "        vertical-align: top;\n",
       "    }\n",
       "\n",
       "    .dataframe thead th {\n",
       "        text-align: right;\n",
       "    }\n",
       "</style>\n",
       "<table border=\"1\" class=\"dataframe\">\n",
       "  <thead>\n",
       "    <tr style=\"text-align: right;\">\n",
       "      <th></th>\n",
       "      <th>Customer ID</th>\n",
       "      <th>RFM_country_cluster</th>\n",
       "      <th>item_category_cluster</th>\n",
       "    </tr>\n",
       "  </thead>\n",
       "  <tbody>\n",
       "    <tr>\n",
       "      <th>0</th>\n",
       "      <td>12346.0</td>\n",
       "      <td>5</td>\n",
       "      <td>1</td>\n",
       "    </tr>\n",
       "    <tr>\n",
       "      <th>1</th>\n",
       "      <td>12347.0</td>\n",
       "      <td>5</td>\n",
       "      <td>1</td>\n",
       "    </tr>\n",
       "    <tr>\n",
       "      <th>2</th>\n",
       "      <td>12348.0</td>\n",
       "      <td>5</td>\n",
       "      <td>1</td>\n",
       "    </tr>\n",
       "    <tr>\n",
       "      <th>3</th>\n",
       "      <td>12349.0</td>\n",
       "      <td>2</td>\n",
       "      <td>1</td>\n",
       "    </tr>\n",
       "    <tr>\n",
       "      <th>4</th>\n",
       "      <td>12350.0</td>\n",
       "      <td>5</td>\n",
       "      <td>1</td>\n",
       "    </tr>\n",
       "  </tbody>\n",
       "</table>\n",
       "</div>"
      ],
      "text/plain": [
       "   Customer ID  RFM_country_cluster  item_category_cluster\n",
       "0      12346.0                    5                      1\n",
       "1      12347.0                    5                      1\n",
       "2      12348.0                    5                      1\n",
       "3      12349.0                    2                      1\n",
       "4      12350.0                    5                      1"
      ]
     },
     "execution_count": 18,
     "metadata": {},
     "output_type": "execute_result"
    }
   ],
   "source": [
    "customer_RFM_GDP=customer_RFM_GDP.reset_index()\n",
    "customer_RFM_GDP=customer_RFM_GDP[['Customer ID','RFM_country_cluster']]\n",
    "print(customer_RFM_GDP.shape)\n",
    "customer_spending_per_category=customer_spending_per_category[['Customer ID','cluster']]\n",
    "customer_spending_per_category.columns=['Customer ID','item_category_cluster']\n",
    "print(customer_spending_per_category.shape)\n",
    "customer_clusters=pd.merge(customer_RFM_GDP,customer_spending_per_category)\n",
    "print(customer_clusters.shape)\n",
    "customer_clusters.head()"
   ]
  },
  {
   "cell_type": "code",
   "execution_count": 19,
   "metadata": {
    "colab": {
     "base_uri": "https://localhost:8080/",
     "height": 238
    },
    "id": "B8hUIW5ODyhy",
    "outputId": "8a55db22-cc72-4165-c738-92da52e90ce7"
   },
   "outputs": [
    {
     "data": {
      "text/html": [
       "<div>\n",
       "<style scoped>\n",
       "    .dataframe tbody tr th:only-of-type {\n",
       "        vertical-align: middle;\n",
       "    }\n",
       "\n",
       "    .dataframe tbody tr th {\n",
       "        vertical-align: top;\n",
       "    }\n",
       "\n",
       "    .dataframe thead th {\n",
       "        text-align: right;\n",
       "    }\n",
       "</style>\n",
       "<table border=\"1\" class=\"dataframe\">\n",
       "  <thead>\n",
       "    <tr style=\"text-align: right;\">\n",
       "      <th>item_category_cluster</th>\n",
       "      <th>0</th>\n",
       "      <th>1</th>\n",
       "      <th>2</th>\n",
       "      <th>3</th>\n",
       "    </tr>\n",
       "    <tr>\n",
       "      <th>RFM_country_cluster</th>\n",
       "      <th></th>\n",
       "      <th></th>\n",
       "      <th></th>\n",
       "      <th></th>\n",
       "    </tr>\n",
       "  </thead>\n",
       "  <tbody>\n",
       "    <tr>\n",
       "      <th>1</th>\n",
       "      <td>0</td>\n",
       "      <td>1</td>\n",
       "      <td>0</td>\n",
       "      <td>0</td>\n",
       "    </tr>\n",
       "    <tr>\n",
       "      <th>2</th>\n",
       "      <td>289</td>\n",
       "      <td>2497</td>\n",
       "      <td>489</td>\n",
       "      <td>270</td>\n",
       "    </tr>\n",
       "    <tr>\n",
       "      <th>3</th>\n",
       "      <td>15</td>\n",
       "      <td>451</td>\n",
       "      <td>69</td>\n",
       "      <td>42</td>\n",
       "    </tr>\n",
       "    <tr>\n",
       "      <th>4</th>\n",
       "      <td>0</td>\n",
       "      <td>6</td>\n",
       "      <td>0</td>\n",
       "      <td>3</td>\n",
       "    </tr>\n",
       "    <tr>\n",
       "      <th>5</th>\n",
       "      <td>117</td>\n",
       "      <td>1332</td>\n",
       "      <td>249</td>\n",
       "      <td>112</td>\n",
       "    </tr>\n",
       "  </tbody>\n",
       "</table>\n",
       "</div>"
      ],
      "text/plain": [
       "item_category_cluster    0     1    2    3\n",
       "RFM_country_cluster                       \n",
       "1                        0     1    0    0\n",
       "2                      289  2497  489  270\n",
       "3                       15   451   69   42\n",
       "4                        0     6    0    3\n",
       "5                      117  1332  249  112"
      ]
     },
     "execution_count": 19,
     "metadata": {},
     "output_type": "execute_result"
    }
   ],
   "source": [
    "pd.crosstab(customer_clusters['RFM_country_cluster'],customer_clusters['item_category_cluster'])"
   ]
  },
  {
   "cell_type": "code",
   "execution_count": 20,
   "metadata": {
    "colab": {
     "base_uri": "https://localhost:8080/",
     "height": 238
    },
    "id": "F2TppJD8F821",
    "outputId": "4950d4ba-62ea-4da9-e2d6-e24e4b0accfd"
   },
   "outputs": [
    {
     "data": {
      "text/html": [
       "<div>\n",
       "<style scoped>\n",
       "    .dataframe tbody tr th:only-of-type {\n",
       "        vertical-align: middle;\n",
       "    }\n",
       "\n",
       "    .dataframe tbody tr th {\n",
       "        vertical-align: top;\n",
       "    }\n",
       "\n",
       "    .dataframe thead th {\n",
       "        text-align: right;\n",
       "    }\n",
       "</style>\n",
       "<table border=\"1\" class=\"dataframe\">\n",
       "  <thead>\n",
       "    <tr style=\"text-align: right;\">\n",
       "      <th>item_category_cluster</th>\n",
       "      <th>0</th>\n",
       "      <th>1</th>\n",
       "      <th>2</th>\n",
       "      <th>3</th>\n",
       "    </tr>\n",
       "    <tr>\n",
       "      <th>RFM_country_cluster</th>\n",
       "      <th></th>\n",
       "      <th></th>\n",
       "      <th></th>\n",
       "      <th></th>\n",
       "    </tr>\n",
       "  </thead>\n",
       "  <tbody>\n",
       "    <tr>\n",
       "      <th>1</th>\n",
       "      <td>0.000000</td>\n",
       "      <td>0.016829</td>\n",
       "      <td>0.000000</td>\n",
       "      <td>0.000000</td>\n",
       "    </tr>\n",
       "    <tr>\n",
       "      <th>2</th>\n",
       "      <td>4.863682</td>\n",
       "      <td>42.022888</td>\n",
       "      <td>8.229552</td>\n",
       "      <td>4.543925</td>\n",
       "    </tr>\n",
       "    <tr>\n",
       "      <th>3</th>\n",
       "      <td>0.252440</td>\n",
       "      <td>7.590037</td>\n",
       "      <td>1.161225</td>\n",
       "      <td>0.706833</td>\n",
       "    </tr>\n",
       "    <tr>\n",
       "      <th>4</th>\n",
       "      <td>0.000000</td>\n",
       "      <td>0.100976</td>\n",
       "      <td>0.000000</td>\n",
       "      <td>0.050488</td>\n",
       "    </tr>\n",
       "    <tr>\n",
       "      <th>5</th>\n",
       "      <td>1.969034</td>\n",
       "      <td>22.416695</td>\n",
       "      <td>4.190508</td>\n",
       "      <td>1.884887</td>\n",
       "    </tr>\n",
       "  </tbody>\n",
       "</table>\n",
       "</div>"
      ],
      "text/plain": [
       "item_category_cluster         0          1         2         3\n",
       "RFM_country_cluster                                           \n",
       "1                      0.000000   0.016829  0.000000  0.000000\n",
       "2                      4.863682  42.022888  8.229552  4.543925\n",
       "3                      0.252440   7.590037  1.161225  0.706833\n",
       "4                      0.000000   0.100976  0.000000  0.050488\n",
       "5                      1.969034  22.416695  4.190508  1.884887"
      ]
     },
     "execution_count": 20,
     "metadata": {},
     "output_type": "execute_result"
    }
   ],
   "source": [
    "cross_table=pd.crosstab(customer_clusters['RFM_country_cluster'],customer_clusters['item_category_cluster'])/5942*100\n",
    "cross_table"
   ]
  },
  {
   "cell_type": "code",
   "execution_count": 21,
   "metadata": {
    "colab": {
     "base_uri": "https://localhost:8080/",
     "height": 335
    },
    "id": "F5ZqSD64GX6W",
    "outputId": "4990de09-9a9e-4aed-fb3d-d3af3a56cb5b"
   },
   "outputs": [
    {
     "data": {
      "image/png": "[encoded data removed]",
      "text/plain": [
       "<Figure size 576x360 with 2 Axes>"
      ]
     },
     "metadata": {},
     "output_type": "display_data"
    }
   ],
   "source": [
    "fig, ax = plt.subplots(figsize=(8, 5))\n",
    "sns.heatmap(cross_table/100,\n",
    "                annot=True,\n",
    "                fmt='.2%',\n",
    "                #cmap='rocket_r',\n",
    "                #linewidths=.5,\n",
    "                ax=ax)\n",
    "plt.show()"
   ]
  }
 ],
 "metadata": {
  "colab": {
   "authorship_tag": "ABX9TyM1c326tjXQeQKeoNdo9kXk",
   "collapsed_sections": [],
   "include_colab_link": true,
   "name": "Online retail - Combine Segmentations.ipynb",
   "provenance": [],
   "toc_visible": true
  },
  "kernelspec": {
   "display_name": "Python 3 (ipykernel)",
   "language": "python",
   "name": "python3"
  },
  "language_info": {
   "codemirror_mode": {
    "name": "ipython",
    "version": 3
   },
   "file_extension": ".py",
   "mimetype": "text/x-python",
   "name": "python",
   "nbconvert_exporter": "python",
   "pygments_lexer": "ipython3",
   "version": "3.8.13"
  }
 },
 "nbformat": 4,
 "nbformat_minor": 1
}

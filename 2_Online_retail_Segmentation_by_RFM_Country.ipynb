{
 "cells": [
  {
   "cell_type": "markdown",
   "metadata": {
    "id": "view-in-github"
   },
   "source": [
    "<a href=\"https://colab.research.google.com/github/adiag321/Customer-Segmentation-and-Analysis-of-Online-Retail/blob/main/Online_retail_Segmentation_by_RFM_Country.ipynb\" target=\"_parent\"><img src=\"https://colab.research.google.com/assets/colab-badge.svg\" alt=\"Open In Colab\"/></a>"
   ]
  },
  {
   "cell_type": "markdown",
   "metadata": {
    "id": "vMgo0NvkNM1C"
   },
   "source": [
    "# Customer Segmentaion of online retail customers\n",
    "## Part II - Segmentation by Recency, Frequency, Monetary (RFM) Value and Country."
   ]
  },
  {
   "cell_type": "markdown",
   "metadata": {
    "id": "JJosaWskQR6X"
   },
   "source": [
    "## Introduction\n",
    "In this notebook we perform Customer segmantation of online retail customers based on their `Spending Per Product Categories`. \n",
    "\n",
    "The dataset used is [Online Retail II Data Set](https://archive.ics.uci.edu/ml/datasets/Online+Retail+II) from UC Irvine Machine Learning Repository."
   ]
  },
  {
   "cell_type": "markdown",
   "metadata": {
    "id": "JqY04x3ePHbb"
   },
   "source": [
    "## Loading libraries and fetching data\n"
   ]
  },
  {
   "cell_type": "code",
   "execution_count": 35,
   "metadata": {
    "id": "SQd4r1DQ23sa"
   },
   "outputs": [],
   "source": [
    "import pandas as pd\n",
    "import pickle\n",
    "import numpy as np\n",
    "import matplotlib.pyplot as plt\n",
    "import seaborn as sns\n",
    "import openpyxl\n",
    "from sklearn.preprocessing import StandardScaler\n",
    "from sklearn.cluster import KMeans,MiniBatchKMeans, AgglomerativeClustering\n",
    "from sklearn.preprocessing import OneHotEncoder\n",
    "from scipy.cluster.hierarchy import dendrogram\n",
    "from wordcloud import WordCloud\n",
    "sns.set_style(\"whitegrid\")"
   ]
  },
  {
   "cell_type": "code",
   "execution_count": 6,
   "metadata": {
    "id": "cwZSxK9P3PM0"
   },
   "outputs": [
    {
     "name": "stderr",
     "output_type": "stream",
     "text": [
      "/var/folders/4k/bqkmm_s90gbdmjr_kbd0jv7w0000gn/T/ipykernel_35926/3280772713.py:2: FutureWarning: The frame.append method is deprecated and will be removed from pandas in a future version. Use pandas.concat instead.\n",
      "  online_retail = online_retail['Year 2009-2010'].append(online_retail['Year 2010-2011'],ignore_index=True)\n"
     ]
    }
   ],
   "source": [
    "online_retail=pd.read_excel('/Users/adityaagarwal/Aditya Ag/Jupyter Notebook/Resume Projects/Customer Segmentation and Analysis of Online Retail/data/online_retail_II.xlsx',sheet_name=None)\n",
    "online_retail = online_retail['Year 2009-2010'].append(online_retail['Year 2010-2011'],ignore_index=True)"
   ]
  },
  {
   "cell_type": "markdown",
   "metadata": {
    "id": "O8xAh8cARxPc"
   },
   "source": [
    "Let's take a glimpse of the dataset"
   ]
  },
  {
   "cell_type": "code",
   "execution_count": 7,
   "metadata": {
    "colab": {
     "base_uri": "https://localhost:8080/",
     "height": 224
    },
    "id": "DYodhlMW3ipD",
    "outputId": "afcae3f9-604d-484f-a6b8-2e04a2938c42"
   },
   "outputs": [
    {
     "name": "stdout",
     "output_type": "stream",
     "text": [
      "(1067371, 8)\n"
     ]
    },
    {
     "data": {
      "text/html": [
       "<div>\n",
       "<style scoped>\n",
       "    .dataframe tbody tr th:only-of-type {\n",
       "        vertical-align: middle;\n",
       "    }\n",
       "\n",
       "    .dataframe tbody tr th {\n",
       "        vertical-align: top;\n",
       "    }\n",
       "\n",
       "    .dataframe thead th {\n",
       "        text-align: right;\n",
       "    }\n",
       "</style>\n",
       "<table border=\"1\" class=\"dataframe\">\n",
       "  <thead>\n",
       "    <tr style=\"text-align: right;\">\n",
       "      <th></th>\n",
       "      <th>Invoice</th>\n",
       "      <th>StockCode</th>\n",
       "      <th>Description</th>\n",
       "      <th>Quantity</th>\n",
       "      <th>InvoiceDate</th>\n",
       "      <th>Price</th>\n",
       "      <th>Customer ID</th>\n",
       "      <th>Country</th>\n",
       "    </tr>\n",
       "  </thead>\n",
       "  <tbody>\n",
       "    <tr>\n",
       "      <th>0</th>\n",
       "      <td>489434</td>\n",
       "      <td>85048</td>\n",
       "      <td>15CM CHRISTMAS GLASS BALL 20 LIGHTS</td>\n",
       "      <td>12</td>\n",
       "      <td>2009-12-01 07:45:00</td>\n",
       "      <td>6.95</td>\n",
       "      <td>13085.0</td>\n",
       "      <td>United Kingdom</td>\n",
       "    </tr>\n",
       "    <tr>\n",
       "      <th>1</th>\n",
       "      <td>489434</td>\n",
       "      <td>79323P</td>\n",
       "      <td>PINK CHERRY LIGHTS</td>\n",
       "      <td>12</td>\n",
       "      <td>2009-12-01 07:45:00</td>\n",
       "      <td>6.75</td>\n",
       "      <td>13085.0</td>\n",
       "      <td>United Kingdom</td>\n",
       "    </tr>\n",
       "    <tr>\n",
       "      <th>2</th>\n",
       "      <td>489434</td>\n",
       "      <td>79323W</td>\n",
       "      <td>WHITE CHERRY LIGHTS</td>\n",
       "      <td>12</td>\n",
       "      <td>2009-12-01 07:45:00</td>\n",
       "      <td>6.75</td>\n",
       "      <td>13085.0</td>\n",
       "      <td>United Kingdom</td>\n",
       "    </tr>\n",
       "    <tr>\n",
       "      <th>3</th>\n",
       "      <td>489434</td>\n",
       "      <td>22041</td>\n",
       "      <td>RECORD FRAME 7\" SINGLE SIZE</td>\n",
       "      <td>48</td>\n",
       "      <td>2009-12-01 07:45:00</td>\n",
       "      <td>2.10</td>\n",
       "      <td>13085.0</td>\n",
       "      <td>United Kingdom</td>\n",
       "    </tr>\n",
       "    <tr>\n",
       "      <th>4</th>\n",
       "      <td>489434</td>\n",
       "      <td>21232</td>\n",
       "      <td>STRAWBERRY CERAMIC TRINKET BOX</td>\n",
       "      <td>24</td>\n",
       "      <td>2009-12-01 07:45:00</td>\n",
       "      <td>1.25</td>\n",
       "      <td>13085.0</td>\n",
       "      <td>United Kingdom</td>\n",
       "    </tr>\n",
       "  </tbody>\n",
       "</table>\n",
       "</div>"
      ],
      "text/plain": [
       "  Invoice StockCode                          Description  Quantity  \\\n",
       "0  489434     85048  15CM CHRISTMAS GLASS BALL 20 LIGHTS        12   \n",
       "1  489434    79323P                   PINK CHERRY LIGHTS        12   \n",
       "2  489434    79323W                  WHITE CHERRY LIGHTS        12   \n",
       "3  489434     22041         RECORD FRAME 7\" SINGLE SIZE         48   \n",
       "4  489434     21232       STRAWBERRY CERAMIC TRINKET BOX        24   \n",
       "\n",
       "          InvoiceDate  Price  Customer ID         Country  \n",
       "0 2009-12-01 07:45:00   6.95      13085.0  United Kingdom  \n",
       "1 2009-12-01 07:45:00   6.75      13085.0  United Kingdom  \n",
       "2 2009-12-01 07:45:00   6.75      13085.0  United Kingdom  \n",
       "3 2009-12-01 07:45:00   2.10      13085.0  United Kingdom  \n",
       "4 2009-12-01 07:45:00   1.25      13085.0  United Kingdom  "
      ]
     },
     "execution_count": 7,
     "metadata": {},
     "output_type": "execute_result"
    }
   ],
   "source": [
    "print(online_retail.shape)\n",
    "online_retail.head()"
   ]
  },
  {
   "cell_type": "code",
   "execution_count": 8,
   "metadata": {
    "colab": {
     "base_uri": "https://localhost:8080/"
    },
    "id": "6gcFpUJI4Hph",
    "outputId": "62914bb4-1322-4c7d-d367-491b57545f66"
   },
   "outputs": [
    {
     "name": "stdout",
     "output_type": "stream",
     "text": [
      "Number of unique customers: 5943\n"
     ]
    }
   ],
   "source": [
    "# number of unique customers\n",
    "print('Number of unique customers: {}'.format(len(online_retail['Customer ID'].unique())))"
   ]
  },
  {
   "cell_type": "code",
   "execution_count": 6,
   "metadata": {
    "colab": {
     "base_uri": "https://localhost:8080/"
    },
    "id": "cRxlGo6d8yvH",
    "outputId": "4c21c73d-2a11-4270-f4d5-5e1c5cc90a96"
   },
   "outputs": [
    {
     "name": "stdout",
     "output_type": "stream",
     "text": [
      "Number of unique countries: 43\n",
      "\n"
     ]
    },
    {
     "data": {
      "text/plain": [
       "United Kingdom          981330\n",
       "EIRE                     17866\n",
       "Germany                  17624\n",
       "France                   14330\n",
       "Netherlands               5140\n",
       "Spain                     3811\n",
       "Switzerland               3189\n",
       "Belgium                   3123\n",
       "Portugal                  2620\n",
       "Australia                 1913\n",
       "Channel Islands           1664\n",
       "Italy                     1534\n",
       "Norway                    1455\n",
       "Sweden                    1364\n",
       "Cyprus                    1176\n",
       "Finland                   1049\n",
       "Austria                    938\n",
       "Denmark                    817\n",
       "Unspecified                756\n",
       "Greece                     663\n",
       "Japan                      582\n",
       "Poland                     535\n",
       "USA                        535\n",
       "United Arab Emirates       500\n",
       "Israel                     371\n",
       "Hong Kong                  364\n",
       "Singapore                  346\n",
       "Malta                      299\n",
       "Iceland                    253\n",
       "Canada                     228\n",
       "Lithuania                  189\n",
       "RSA                        169\n",
       "Bahrain                    126\n",
       "Brazil                      94\n",
       "Thailand                    76\n",
       "Korea                       63\n",
       "European Community          61\n",
       "Lebanon                     58\n",
       "West Indies                 54\n",
       "Bermuda                     34\n",
       "Nigeria                     32\n",
       "Czech Republic              30\n",
       "Saudi Arabia                10\n",
       "Name: Country, dtype: int64"
      ]
     },
     "execution_count": 6,
     "metadata": {},
     "output_type": "execute_result"
    }
   ],
   "source": [
    "# examine countries\n",
    "print('Number of unique countries: {}\\n'.format(len(online_retail['Country'].unique())))\n",
    "online_retail['Country'].value_counts()"
   ]
  },
  {
   "cell_type": "markdown",
   "metadata": {
    "id": "F36zJskXmTH6"
   },
   "source": [
    "Some customers appera with two countries in their invoices."
   ]
  },
  {
   "cell_type": "code",
   "execution_count": 9,
   "metadata": {
    "colab": {
     "base_uri": "https://localhost:8080/"
    },
    "id": "7Ma7GzYxZef0",
    "outputId": "46e44428-9574-4f85-ed7a-473f8569d176"
   },
   "outputs": [
    {
     "data": {
      "text/plain": [
       "1    5929\n",
       "2      13\n",
       "Name: Country, dtype: int64"
      ]
     },
     "execution_count": 9,
     "metadata": {},
     "output_type": "execute_result"
    }
   ],
   "source": [
    "customer_countries=online_retail.groupby(['Customer ID']).agg({'Country':'nunique'})\n",
    "customer_countries['Country'].value_counts()"
   ]
  },
  {
   "cell_type": "markdown",
   "metadata": {
    "id": "Uzn49jqcmlk5"
   },
   "source": [
    "Min and max Invoice Dates are"
   ]
  },
  {
   "cell_type": "code",
   "execution_count": 10,
   "metadata": {
    "colab": {
     "base_uri": "https://localhost:8080/"
    },
    "id": "TnU5gevktCGG",
    "outputId": "543d7129-9220-4b40-f785-7733a8d9e2e1"
   },
   "outputs": [
    {
     "name": "stdout",
     "output_type": "stream",
     "text": [
      "2009-12-01 07:45:00\n",
      "2011-12-09 12:50:00\n"
     ]
    }
   ],
   "source": [
    "online_retail['date']= pd.to_datetime(online_retail['InvoiceDate'])\n",
    "print (online_retail['date'].min())\n",
    "print (online_retail['date'].max())\n",
    "max_date=online_retail['date'].max()"
   ]
  },
  {
   "cell_type": "markdown",
   "metadata": {
    "id": "NXmKgXqRt9lD"
   },
   "source": [
    "## Recency, Frequency, Monetary Vavlue (RFM)\n",
    "This section calculates Recency, Frequency, Monetary Vavlue (RFM) for each customer.\n",
    "\n",
    "For each customer:\n",
    "* **Recency** is the number of days from last InvoiceDate to most current InvoiceDate of the dataset (2011-12-09),\n",
    "* **Frequency** is the number of days from first InvoiceDate to last  InvoiceDate divided by the number of invoices,\n",
    "* **Monetary value** is the average cost where cost is the product of Quantity by Price."
   ]
  },
  {
   "cell_type": "code",
   "execution_count": 11,
   "metadata": {
    "colab": {
     "base_uri": "https://localhost:8080/",
     "height": 206
    },
    "id": "inyQi0BouWC8",
    "outputId": "3fd391e9-4f94-4c62-a5bd-569a9364226e"
   },
   "outputs": [
    {
     "data": {
      "text/html": [
       "<div>\n",
       "<style scoped>\n",
       "    .dataframe tbody tr th:only-of-type {\n",
       "        vertical-align: middle;\n",
       "    }\n",
       "\n",
       "    .dataframe tbody tr th {\n",
       "        vertical-align: top;\n",
       "    }\n",
       "\n",
       "    .dataframe thead th {\n",
       "        text-align: right;\n",
       "    }\n",
       "</style>\n",
       "<table border=\"1\" class=\"dataframe\">\n",
       "  <thead>\n",
       "    <tr style=\"text-align: right;\">\n",
       "      <th></th>\n",
       "      <th>Invoice</th>\n",
       "      <th>StockCode</th>\n",
       "      <th>Description</th>\n",
       "      <th>Quantity</th>\n",
       "      <th>InvoiceDate</th>\n",
       "      <th>Price</th>\n",
       "      <th>Customer ID</th>\n",
       "      <th>Country</th>\n",
       "      <th>date</th>\n",
       "      <th>cost</th>\n",
       "    </tr>\n",
       "  </thead>\n",
       "  <tbody>\n",
       "    <tr>\n",
       "      <th>0</th>\n",
       "      <td>489434</td>\n",
       "      <td>85048</td>\n",
       "      <td>15CM CHRISTMAS GLASS BALL 20 LIGHTS</td>\n",
       "      <td>12</td>\n",
       "      <td>2009-12-01 07:45:00</td>\n",
       "      <td>6.95</td>\n",
       "      <td>13085.0</td>\n",
       "      <td>United Kingdom</td>\n",
       "      <td>2009-12-01 07:45:00</td>\n",
       "      <td>83.4</td>\n",
       "    </tr>\n",
       "    <tr>\n",
       "      <th>1</th>\n",
       "      <td>489434</td>\n",
       "      <td>79323P</td>\n",
       "      <td>PINK CHERRY LIGHTS</td>\n",
       "      <td>12</td>\n",
       "      <td>2009-12-01 07:45:00</td>\n",
       "      <td>6.75</td>\n",
       "      <td>13085.0</td>\n",
       "      <td>United Kingdom</td>\n",
       "      <td>2009-12-01 07:45:00</td>\n",
       "      <td>81.0</td>\n",
       "    </tr>\n",
       "    <tr>\n",
       "      <th>2</th>\n",
       "      <td>489434</td>\n",
       "      <td>79323W</td>\n",
       "      <td>WHITE CHERRY LIGHTS</td>\n",
       "      <td>12</td>\n",
       "      <td>2009-12-01 07:45:00</td>\n",
       "      <td>6.75</td>\n",
       "      <td>13085.0</td>\n",
       "      <td>United Kingdom</td>\n",
       "      <td>2009-12-01 07:45:00</td>\n",
       "      <td>81.0</td>\n",
       "    </tr>\n",
       "    <tr>\n",
       "      <th>3</th>\n",
       "      <td>489434</td>\n",
       "      <td>22041</td>\n",
       "      <td>RECORD FRAME 7\" SINGLE SIZE</td>\n",
       "      <td>48</td>\n",
       "      <td>2009-12-01 07:45:00</td>\n",
       "      <td>2.10</td>\n",
       "      <td>13085.0</td>\n",
       "      <td>United Kingdom</td>\n",
       "      <td>2009-12-01 07:45:00</td>\n",
       "      <td>100.8</td>\n",
       "    </tr>\n",
       "    <tr>\n",
       "      <th>4</th>\n",
       "      <td>489434</td>\n",
       "      <td>21232</td>\n",
       "      <td>STRAWBERRY CERAMIC TRINKET BOX</td>\n",
       "      <td>24</td>\n",
       "      <td>2009-12-01 07:45:00</td>\n",
       "      <td>1.25</td>\n",
       "      <td>13085.0</td>\n",
       "      <td>United Kingdom</td>\n",
       "      <td>2009-12-01 07:45:00</td>\n",
       "      <td>30.0</td>\n",
       "    </tr>\n",
       "  </tbody>\n",
       "</table>\n",
       "</div>"
      ],
      "text/plain": [
       "  Invoice StockCode                          Description  Quantity  \\\n",
       "0  489434     85048  15CM CHRISTMAS GLASS BALL 20 LIGHTS        12   \n",
       "1  489434    79323P                   PINK CHERRY LIGHTS        12   \n",
       "2  489434    79323W                  WHITE CHERRY LIGHTS        12   \n",
       "3  489434     22041         RECORD FRAME 7\" SINGLE SIZE         48   \n",
       "4  489434     21232       STRAWBERRY CERAMIC TRINKET BOX        24   \n",
       "\n",
       "          InvoiceDate  Price  Customer ID         Country                date  \\\n",
       "0 2009-12-01 07:45:00   6.95      13085.0  United Kingdom 2009-12-01 07:45:00   \n",
       "1 2009-12-01 07:45:00   6.75      13085.0  United Kingdom 2009-12-01 07:45:00   \n",
       "2 2009-12-01 07:45:00   6.75      13085.0  United Kingdom 2009-12-01 07:45:00   \n",
       "3 2009-12-01 07:45:00   2.10      13085.0  United Kingdom 2009-12-01 07:45:00   \n",
       "4 2009-12-01 07:45:00   1.25      13085.0  United Kingdom 2009-12-01 07:45:00   \n",
       "\n",
       "    cost  \n",
       "0   83.4  \n",
       "1   81.0  \n",
       "2   81.0  \n",
       "3  100.8  \n",
       "4   30.0  "
      ]
     },
     "execution_count": 11,
     "metadata": {},
     "output_type": "execute_result"
    }
   ],
   "source": [
    "online_retail['cost']=online_retail['Quantity']*online_retail['Price']\n",
    "online_retail.head()"
   ]
  },
  {
   "cell_type": "code",
   "execution_count": 12,
   "metadata": {
    "colab": {
     "base_uri": "https://localhost:8080/",
     "height": 238
    },
    "id": "qdhpWc6rtvjx",
    "outputId": "3c4eabf1-523d-4244-b8a4-0fa0b114bc9b"
   },
   "outputs": [
    {
     "data": {
      "text/html": [
       "<div>\n",
       "<style scoped>\n",
       "    .dataframe tbody tr th:only-of-type {\n",
       "        vertical-align: middle;\n",
       "    }\n",
       "\n",
       "    .dataframe tbody tr th {\n",
       "        vertical-align: top;\n",
       "    }\n",
       "\n",
       "    .dataframe thead th {\n",
       "        text-align: right;\n",
       "    }\n",
       "</style>\n",
       "<table border=\"1\" class=\"dataframe\">\n",
       "  <thead>\n",
       "    <tr style=\"text-align: right;\">\n",
       "      <th></th>\n",
       "      <th>count</th>\n",
       "      <th>total_cost</th>\n",
       "      <th>min_date</th>\n",
       "      <th>max_date</th>\n",
       "    </tr>\n",
       "    <tr>\n",
       "      <th>Customer ID</th>\n",
       "      <th></th>\n",
       "      <th></th>\n",
       "      <th></th>\n",
       "      <th></th>\n",
       "    </tr>\n",
       "  </thead>\n",
       "  <tbody>\n",
       "    <tr>\n",
       "      <th>12346.0</th>\n",
       "      <td>17</td>\n",
       "      <td>-64.68</td>\n",
       "      <td>2009-12-14 08:34:00</td>\n",
       "      <td>2011-01-18 10:17:00</td>\n",
       "    </tr>\n",
       "    <tr>\n",
       "      <th>12347.0</th>\n",
       "      <td>8</td>\n",
       "      <td>5633.32</td>\n",
       "      <td>2010-10-31 14:20:00</td>\n",
       "      <td>2011-12-07 15:52:00</td>\n",
       "    </tr>\n",
       "    <tr>\n",
       "      <th>12348.0</th>\n",
       "      <td>5</td>\n",
       "      <td>2019.40</td>\n",
       "      <td>2010-09-27 14:59:00</td>\n",
       "      <td>2011-09-25 13:13:00</td>\n",
       "    </tr>\n",
       "    <tr>\n",
       "      <th>12349.0</th>\n",
       "      <td>5</td>\n",
       "      <td>4404.54</td>\n",
       "      <td>2009-12-04 12:49:00</td>\n",
       "      <td>2011-11-21 09:51:00</td>\n",
       "    </tr>\n",
       "    <tr>\n",
       "      <th>12350.0</th>\n",
       "      <td>1</td>\n",
       "      <td>334.40</td>\n",
       "      <td>2011-02-02 16:01:00</td>\n",
       "      <td>2011-02-02 16:01:00</td>\n",
       "    </tr>\n",
       "  </tbody>\n",
       "</table>\n",
       "</div>"
      ],
      "text/plain": [
       "             count  total_cost            min_date            max_date\n",
       "Customer ID                                                           \n",
       "12346.0         17      -64.68 2009-12-14 08:34:00 2011-01-18 10:17:00\n",
       "12347.0          8     5633.32 2010-10-31 14:20:00 2011-12-07 15:52:00\n",
       "12348.0          5     2019.40 2010-09-27 14:59:00 2011-09-25 13:13:00\n",
       "12349.0          5     4404.54 2009-12-04 12:49:00 2011-11-21 09:51:00\n",
       "12350.0          1      334.40 2011-02-02 16:01:00 2011-02-02 16:01:00"
      ]
     },
     "execution_count": 12,
     "metadata": {},
     "output_type": "execute_result"
    }
   ],
   "source": [
    "customer_rfm=online_retail.groupby(['Customer ID']).agg({'Invoice':'nunique', \n",
    "                                                         'cost':'sum',\n",
    "                                                         'date':['min','max']})\n",
    "customer_rfm.columns=['count','total_cost','min_date','max_date']\n",
    "customer_rfm.head()"
   ]
  },
  {
   "cell_type": "code",
   "execution_count": 13,
   "metadata": {
    "colab": {
     "base_uri": "https://localhost:8080/",
     "height": 238
    },
    "id": "lDI9FDroUJjs",
    "outputId": "c296a394-d804-451d-fa55-a9be55bee03f"
   },
   "outputs": [
    {
     "data": {
      "text/html": [
       "<div>\n",
       "<style scoped>\n",
       "    .dataframe tbody tr th:only-of-type {\n",
       "        vertical-align: middle;\n",
       "    }\n",
       "\n",
       "    .dataframe tbody tr th {\n",
       "        vertical-align: top;\n",
       "    }\n",
       "\n",
       "    .dataframe thead th {\n",
       "        text-align: right;\n",
       "    }\n",
       "</style>\n",
       "<table border=\"1\" class=\"dataframe\">\n",
       "  <thead>\n",
       "    <tr style=\"text-align: right;\">\n",
       "      <th></th>\n",
       "      <th>recency</th>\n",
       "      <th>frequency</th>\n",
       "      <th>monetary_value</th>\n",
       "    </tr>\n",
       "    <tr>\n",
       "      <th>Customer ID</th>\n",
       "      <th></th>\n",
       "      <th></th>\n",
       "      <th></th>\n",
       "    </tr>\n",
       "  </thead>\n",
       "  <tbody>\n",
       "    <tr>\n",
       "      <th>12346.0</th>\n",
       "      <td>325</td>\n",
       "      <td>42.647059</td>\n",
       "      <td>-3.804706</td>\n",
       "    </tr>\n",
       "    <tr>\n",
       "      <th>12347.0</th>\n",
       "      <td>1</td>\n",
       "      <td>50.375000</td>\n",
       "      <td>704.165000</td>\n",
       "    </tr>\n",
       "    <tr>\n",
       "      <th>12348.0</th>\n",
       "      <td>74</td>\n",
       "      <td>87.400000</td>\n",
       "      <td>403.880000</td>\n",
       "    </tr>\n",
       "    <tr>\n",
       "      <th>12349.0</th>\n",
       "      <td>18</td>\n",
       "      <td>147.000000</td>\n",
       "      <td>880.908000</td>\n",
       "    </tr>\n",
       "    <tr>\n",
       "      <th>12350.0</th>\n",
       "      <td>309</td>\n",
       "      <td>309.000000</td>\n",
       "      <td>334.400000</td>\n",
       "    </tr>\n",
       "  </tbody>\n",
       "</table>\n",
       "</div>"
      ],
      "text/plain": [
       "             recency   frequency  monetary_value\n",
       "Customer ID                                     \n",
       "12346.0          325   42.647059       -3.804706\n",
       "12347.0            1   50.375000      704.165000\n",
       "12348.0           74   87.400000      403.880000\n",
       "12349.0           18  147.000000      880.908000\n",
       "12350.0          309  309.000000      334.400000"
      ]
     },
     "execution_count": 13,
     "metadata": {},
     "output_type": "execute_result"
    }
   ],
   "source": [
    "customer_rfm['recency']=max_date-customer_rfm['max_date']\n",
    "customer_rfm['recency'] = customer_rfm['recency'].dt.days\n",
    "customer_rfm['days']=max_date-customer_rfm['min_date']\n",
    "customer_rfm['days'] = customer_rfm['days'].dt.days\n",
    "customer_rfm['frequency']=customer_rfm['days']/customer_rfm['count']\n",
    "customer_rfm['monetary_value']=customer_rfm['total_cost']/customer_rfm['count']\n",
    "customer_rfm=customer_rfm.drop(['count','total_cost','days','min_date','max_date'],axis=1)\n",
    "customer_rfm.head()"
   ]
  },
  {
   "cell_type": "markdown",
   "metadata": {
    "id": "c6ySIQskcey7"
   },
   "source": [
    "## Countries\n",
    "This section appends to each customer his/hers country GDP. For customers with more than on countries, we take the weighted by number of invoices GDP."
   ]
  },
  {
   "cell_type": "code",
   "execution_count": 14,
   "metadata": {
    "colab": {
     "base_uri": "https://localhost:8080/",
     "height": 238
    },
    "id": "D_RPK-ITWXoX",
    "outputId": "0167bf42-cfb1-41e1-9e3b-f1341e1cee16"
   },
   "outputs": [
    {
     "data": {
      "text/html": [
       "<div>\n",
       "<style scoped>\n",
       "    .dataframe tbody tr th:only-of-type {\n",
       "        vertical-align: middle;\n",
       "    }\n",
       "\n",
       "    .dataframe tbody tr th {\n",
       "        vertical-align: top;\n",
       "    }\n",
       "\n",
       "    .dataframe thead th {\n",
       "        text-align: right;\n",
       "    }\n",
       "</style>\n",
       "<table border=\"1\" class=\"dataframe\">\n",
       "  <thead>\n",
       "    <tr style=\"text-align: right;\">\n",
       "      <th></th>\n",
       "      <th></th>\n",
       "      <th>Invoice</th>\n",
       "    </tr>\n",
       "    <tr>\n",
       "      <th>Customer ID</th>\n",
       "      <th>Country</th>\n",
       "      <th></th>\n",
       "    </tr>\n",
       "  </thead>\n",
       "  <tbody>\n",
       "    <tr>\n",
       "      <th>12346.0</th>\n",
       "      <th>United Kingdom</th>\n",
       "      <td>17</td>\n",
       "    </tr>\n",
       "    <tr>\n",
       "      <th>12347.0</th>\n",
       "      <th>Iceland</th>\n",
       "      <td>8</td>\n",
       "    </tr>\n",
       "    <tr>\n",
       "      <th>12348.0</th>\n",
       "      <th>Finland</th>\n",
       "      <td>5</td>\n",
       "    </tr>\n",
       "    <tr>\n",
       "      <th>12349.0</th>\n",
       "      <th>Italy</th>\n",
       "      <td>5</td>\n",
       "    </tr>\n",
       "    <tr>\n",
       "      <th>12350.0</th>\n",
       "      <th>Norway</th>\n",
       "      <td>1</td>\n",
       "    </tr>\n",
       "  </tbody>\n",
       "</table>\n",
       "</div>"
      ],
      "text/plain": [
       "                            Invoice\n",
       "Customer ID Country                \n",
       "12346.0     United Kingdom       17\n",
       "12347.0     Iceland               8\n",
       "12348.0     Finland               5\n",
       "12349.0     Italy                 5\n",
       "12350.0     Norway                1"
      ]
     },
     "execution_count": 14,
     "metadata": {},
     "output_type": "execute_result"
    }
   ],
   "source": [
    "customer_countries=online_retail.groupby(['Customer ID','Country']).agg({'Invoice':'nunique'})\n",
    "customer_countries.head()"
   ]
  },
  {
   "cell_type": "code",
   "execution_count": 17,
   "metadata": {
    "colab": {
     "base_uri": "https://localhost:8080/",
     "height": 206
    },
    "id": "y30iKLPtWUxc",
    "outputId": "19800d95-317d-4a2f-b59b-2aa7d103428c"
   },
   "outputs": [
    {
     "data": {
      "text/html": [
       "<div>\n",
       "<style scoped>\n",
       "    .dataframe tbody tr th:only-of-type {\n",
       "        vertical-align: middle;\n",
       "    }\n",
       "\n",
       "    .dataframe tbody tr th {\n",
       "        vertical-align: top;\n",
       "    }\n",
       "\n",
       "    .dataframe thead th {\n",
       "        text-align: right;\n",
       "    }\n",
       "</style>\n",
       "<table border=\"1\" class=\"dataframe\">\n",
       "  <thead>\n",
       "    <tr style=\"text-align: right;\">\n",
       "      <th></th>\n",
       "      <th>Country</th>\n",
       "      <th>GDP</th>\n",
       "    </tr>\n",
       "  </thead>\n",
       "  <tbody>\n",
       "    <tr>\n",
       "      <th>0</th>\n",
       "      <td>United Kingdom</td>\n",
       "      <td>2638296</td>\n",
       "    </tr>\n",
       "    <tr>\n",
       "      <th>1</th>\n",
       "      <td>EIRE</td>\n",
       "      <td>399064</td>\n",
       "    </tr>\n",
       "    <tr>\n",
       "      <th>2</th>\n",
       "      <td>Germany</td>\n",
       "      <td>3780553</td>\n",
       "    </tr>\n",
       "    <tr>\n",
       "      <th>3</th>\n",
       "      <td>France</td>\n",
       "      <td>2551451</td>\n",
       "    </tr>\n",
       "    <tr>\n",
       "      <th>4</th>\n",
       "      <td>Netherlands</td>\n",
       "      <td>886339</td>\n",
       "    </tr>\n",
       "  </tbody>\n",
       "</table>\n",
       "</div>"
      ],
      "text/plain": [
       "          Country      GDP\n",
       "0  United Kingdom  2638296\n",
       "1            EIRE   399064\n",
       "2         Germany  3780553\n",
       "3          France  2551451\n",
       "4     Netherlands   886339"
      ]
     },
     "execution_count": 17,
     "metadata": {},
     "output_type": "execute_result"
    }
   ],
   "source": [
    "countries_GDP=pd.read_excel('/Users/adityaagarwal/Aditya Ag/Jupyter Notebook/Resume Projects/Customer Segmentation and Analysis of Online Retail/data/GDP.xlsx', engine='openpyxl')\n",
    "countries_GDP.head()"
   ]
  },
  {
   "cell_type": "code",
   "execution_count": 18,
   "metadata": {
    "colab": {
     "base_uri": "https://localhost:8080/",
     "height": 238
    },
    "id": "bamsjjRiaIXk",
    "outputId": "ff2992e7-0c0f-43d4-b2e9-322f1785eca1"
   },
   "outputs": [
    {
     "data": {
      "text/html": [
       "<div>\n",
       "<style scoped>\n",
       "    .dataframe tbody tr th:only-of-type {\n",
       "        vertical-align: middle;\n",
       "    }\n",
       "\n",
       "    .dataframe tbody tr th {\n",
       "        vertical-align: top;\n",
       "    }\n",
       "\n",
       "    .dataframe thead th {\n",
       "        text-align: right;\n",
       "    }\n",
       "</style>\n",
       "<table border=\"1\" class=\"dataframe\">\n",
       "  <thead>\n",
       "    <tr style=\"text-align: right;\">\n",
       "      <th></th>\n",
       "      <th>Country</th>\n",
       "      <th>Invoice</th>\n",
       "      <th>GDP</th>\n",
       "    </tr>\n",
       "    <tr>\n",
       "      <th>Customer ID</th>\n",
       "      <th></th>\n",
       "      <th></th>\n",
       "      <th></th>\n",
       "    </tr>\n",
       "  </thead>\n",
       "  <tbody>\n",
       "    <tr>\n",
       "      <th>12346.0</th>\n",
       "      <td>United Kingdom</td>\n",
       "      <td>17</td>\n",
       "      <td>2638296.0</td>\n",
       "    </tr>\n",
       "    <tr>\n",
       "      <th>12347.0</th>\n",
       "      <td>Iceland</td>\n",
       "      <td>8</td>\n",
       "      <td>20805.0</td>\n",
       "    </tr>\n",
       "    <tr>\n",
       "      <th>12348.0</th>\n",
       "      <td>Finland</td>\n",
       "      <td>5</td>\n",
       "      <td>267856.0</td>\n",
       "    </tr>\n",
       "    <tr>\n",
       "      <th>12349.0</th>\n",
       "      <td>Italy</td>\n",
       "      <td>5</td>\n",
       "      <td>1848222.0</td>\n",
       "    </tr>\n",
       "    <tr>\n",
       "      <th>12350.0</th>\n",
       "      <td>Norway</td>\n",
       "      <td>1</td>\n",
       "      <td>366386.0</td>\n",
       "    </tr>\n",
       "  </tbody>\n",
       "</table>\n",
       "</div>"
      ],
      "text/plain": [
       "                    Country  Invoice        GDP\n",
       "Customer ID                                    \n",
       "12346.0      United Kingdom       17  2638296.0\n",
       "12347.0             Iceland        8    20805.0\n",
       "12348.0             Finland        5   267856.0\n",
       "12349.0               Italy        5  1848222.0\n",
       "12350.0              Norway        1   366386.0"
      ]
     },
     "execution_count": 18,
     "metadata": {},
     "output_type": "execute_result"
    }
   ],
   "source": [
    "customer_countries=customer_countries.reset_index().merge(countries_GDP,on='Country',how='left').set_index('Customer ID')\n",
    "customer_countries.head()"
   ]
  },
  {
   "cell_type": "markdown",
   "metadata": {
    "id": "bvGXHnOHo1UA"
   },
   "source": [
    "For some customers we do not have country/GDP."
   ]
  },
  {
   "cell_type": "code",
   "execution_count": 19,
   "metadata": {
    "colab": {
     "base_uri": "https://localhost:8080/",
     "height": 820
    },
    "id": "JrFrm9P_a0ln",
    "outputId": "b45f33d7-6692-42cf-c49a-7c0e305e8b58"
   },
   "outputs": [
    {
     "name": "stdout",
     "output_type": "stream",
     "text": [
      "Customers with missing GDP data: 23\n"
     ]
    },
    {
     "data": {
      "text/html": [
       "<div>\n",
       "<style scoped>\n",
       "    .dataframe tbody tr th:only-of-type {\n",
       "        vertical-align: middle;\n",
       "    }\n",
       "\n",
       "    .dataframe tbody tr th {\n",
       "        vertical-align: top;\n",
       "    }\n",
       "\n",
       "    .dataframe thead th {\n",
       "        text-align: right;\n",
       "    }\n",
       "</style>\n",
       "<table border=\"1\" class=\"dataframe\">\n",
       "  <thead>\n",
       "    <tr style=\"text-align: right;\">\n",
       "      <th></th>\n",
       "      <th>Country</th>\n",
       "      <th>Invoice</th>\n",
       "      <th>GDP</th>\n",
       "    </tr>\n",
       "    <tr>\n",
       "      <th>Customer ID</th>\n",
       "      <th></th>\n",
       "      <th></th>\n",
       "      <th></th>\n",
       "    </tr>\n",
       "  </thead>\n",
       "  <tbody>\n",
       "    <tr>\n",
       "      <th>12351.0</th>\n",
       "      <td>Unspecified</td>\n",
       "      <td>1</td>\n",
       "      <td>NaN</td>\n",
       "    </tr>\n",
       "    <tr>\n",
       "      <th>12363.0</th>\n",
       "      <td>Unspecified</td>\n",
       "      <td>2</td>\n",
       "      <td>NaN</td>\n",
       "    </tr>\n",
       "    <tr>\n",
       "      <th>12470.0</th>\n",
       "      <td>Unspecified</td>\n",
       "      <td>1</td>\n",
       "      <td>NaN</td>\n",
       "    </tr>\n",
       "    <tr>\n",
       "      <th>12743.0</th>\n",
       "      <td>Unspecified</td>\n",
       "      <td>2</td>\n",
       "      <td>NaN</td>\n",
       "    </tr>\n",
       "    <tr>\n",
       "      <th>14265.0</th>\n",
       "      <td>Unspecified</td>\n",
       "      <td>4</td>\n",
       "      <td>NaN</td>\n",
       "    </tr>\n",
       "    <tr>\n",
       "      <th>14442.0</th>\n",
       "      <td>Channel Islands</td>\n",
       "      <td>12</td>\n",
       "      <td>NaN</td>\n",
       "    </tr>\n",
       "    <tr>\n",
       "      <th>14564.0</th>\n",
       "      <td>Channel Islands</td>\n",
       "      <td>5</td>\n",
       "      <td>NaN</td>\n",
       "    </tr>\n",
       "    <tr>\n",
       "      <th>14566.0</th>\n",
       "      <td>Channel Islands</td>\n",
       "      <td>4</td>\n",
       "      <td>NaN</td>\n",
       "    </tr>\n",
       "    <tr>\n",
       "      <th>14568.0</th>\n",
       "      <td>Channel Islands</td>\n",
       "      <td>2</td>\n",
       "      <td>NaN</td>\n",
       "    </tr>\n",
       "    <tr>\n",
       "      <th>14930.0</th>\n",
       "      <td>Channel Islands</td>\n",
       "      <td>9</td>\n",
       "      <td>NaN</td>\n",
       "    </tr>\n",
       "    <tr>\n",
       "      <th>14931.0</th>\n",
       "      <td>Channel Islands</td>\n",
       "      <td>6</td>\n",
       "      <td>NaN</td>\n",
       "    </tr>\n",
       "    <tr>\n",
       "      <th>14932.0</th>\n",
       "      <td>Channel Islands</td>\n",
       "      <td>2</td>\n",
       "      <td>NaN</td>\n",
       "    </tr>\n",
       "    <tr>\n",
       "      <th>14933.0</th>\n",
       "      <td>Channel Islands</td>\n",
       "      <td>5</td>\n",
       "      <td>NaN</td>\n",
       "    </tr>\n",
       "    <tr>\n",
       "      <th>14934.0</th>\n",
       "      <td>Channel Islands</td>\n",
       "      <td>9</td>\n",
       "      <td>NaN</td>\n",
       "    </tr>\n",
       "    <tr>\n",
       "      <th>14935.0</th>\n",
       "      <td>Channel Islands</td>\n",
       "      <td>2</td>\n",
       "      <td>NaN</td>\n",
       "    </tr>\n",
       "    <tr>\n",
       "      <th>14936.0</th>\n",
       "      <td>Channel Islands</td>\n",
       "      <td>14</td>\n",
       "      <td>NaN</td>\n",
       "    </tr>\n",
       "    <tr>\n",
       "      <th>14937.0</th>\n",
       "      <td>Channel Islands</td>\n",
       "      <td>4</td>\n",
       "      <td>NaN</td>\n",
       "    </tr>\n",
       "    <tr>\n",
       "      <th>14938.0</th>\n",
       "      <td>Channel Islands</td>\n",
       "      <td>4</td>\n",
       "      <td>NaN</td>\n",
       "    </tr>\n",
       "    <tr>\n",
       "      <th>14939.0</th>\n",
       "      <td>Channel Islands</td>\n",
       "      <td>1</td>\n",
       "      <td>NaN</td>\n",
       "    </tr>\n",
       "    <tr>\n",
       "      <th>15108.0</th>\n",
       "      <td>European Community</td>\n",
       "      <td>5</td>\n",
       "      <td>NaN</td>\n",
       "    </tr>\n",
       "    <tr>\n",
       "      <th>15357.0</th>\n",
       "      <td>Unspecified</td>\n",
       "      <td>1</td>\n",
       "      <td>NaN</td>\n",
       "    </tr>\n",
       "    <tr>\n",
       "      <th>16320.0</th>\n",
       "      <td>Unspecified</td>\n",
       "      <td>8</td>\n",
       "      <td>NaN</td>\n",
       "    </tr>\n",
       "    <tr>\n",
       "      <th>18140.0</th>\n",
       "      <td>West Indies</td>\n",
       "      <td>1</td>\n",
       "      <td>NaN</td>\n",
       "    </tr>\n",
       "  </tbody>\n",
       "</table>\n",
       "</div>"
      ],
      "text/plain": [
       "                        Country  Invoice  GDP\n",
       "Customer ID                                  \n",
       "12351.0             Unspecified        1  NaN\n",
       "12363.0             Unspecified        2  NaN\n",
       "12470.0             Unspecified        1  NaN\n",
       "12743.0             Unspecified        2  NaN\n",
       "14265.0             Unspecified        4  NaN\n",
       "14442.0         Channel Islands       12  NaN\n",
       "14564.0         Channel Islands        5  NaN\n",
       "14566.0         Channel Islands        4  NaN\n",
       "14568.0         Channel Islands        2  NaN\n",
       "14930.0         Channel Islands        9  NaN\n",
       "14931.0         Channel Islands        6  NaN\n",
       "14932.0         Channel Islands        2  NaN\n",
       "14933.0         Channel Islands        5  NaN\n",
       "14934.0         Channel Islands        9  NaN\n",
       "14935.0         Channel Islands        2  NaN\n",
       "14936.0         Channel Islands       14  NaN\n",
       "14937.0         Channel Islands        4  NaN\n",
       "14938.0         Channel Islands        4  NaN\n",
       "14939.0         Channel Islands        1  NaN\n",
       "15108.0      European Community        5  NaN\n",
       "15357.0             Unspecified        1  NaN\n",
       "16320.0             Unspecified        8  NaN\n",
       "18140.0             West Indies        1  NaN"
      ]
     },
     "execution_count": 19,
     "metadata": {},
     "output_type": "execute_result"
    }
   ],
   "source": [
    "print('Customers with missing GDP data: {}'.format(customer_countries['GDP'].isna().sum()))\n",
    "customer_countries[customer_countries['GDP'].isna()]"
   ]
  },
  {
   "cell_type": "markdown",
   "metadata": {
    "id": "b8f33LpqpJMT"
   },
   "source": [
    "Next, we calculate the weighted GDP."
   ]
  },
  {
   "cell_type": "code",
   "execution_count": 20,
   "metadata": {
    "colab": {
     "base_uri": "https://localhost:8080/",
     "height": 238
    },
    "id": "-gl6lR05cRUW",
    "outputId": "bea5180e-116b-4502-d391-0bac37da9126"
   },
   "outputs": [
    {
     "data": {
      "text/html": [
       "<div>\n",
       "<style scoped>\n",
       "    .dataframe tbody tr th:only-of-type {\n",
       "        vertical-align: middle;\n",
       "    }\n",
       "\n",
       "    .dataframe tbody tr th {\n",
       "        vertical-align: top;\n",
       "    }\n",
       "\n",
       "    .dataframe thead th {\n",
       "        text-align: right;\n",
       "    }\n",
       "</style>\n",
       "<table border=\"1\" class=\"dataframe\">\n",
       "  <thead>\n",
       "    <tr style=\"text-align: right;\">\n",
       "      <th></th>\n",
       "      <th>Invoice</th>\n",
       "      <th>weight</th>\n",
       "      <th>weighted GDP</th>\n",
       "    </tr>\n",
       "    <tr>\n",
       "      <th>Customer ID</th>\n",
       "      <th></th>\n",
       "      <th></th>\n",
       "      <th></th>\n",
       "    </tr>\n",
       "  </thead>\n",
       "  <tbody>\n",
       "    <tr>\n",
       "      <th>12346.0</th>\n",
       "      <td>17</td>\n",
       "      <td>44851032.0</td>\n",
       "      <td>2638296.0</td>\n",
       "    </tr>\n",
       "    <tr>\n",
       "      <th>12347.0</th>\n",
       "      <td>8</td>\n",
       "      <td>166440.0</td>\n",
       "      <td>20805.0</td>\n",
       "    </tr>\n",
       "    <tr>\n",
       "      <th>12348.0</th>\n",
       "      <td>5</td>\n",
       "      <td>1339280.0</td>\n",
       "      <td>267856.0</td>\n",
       "    </tr>\n",
       "    <tr>\n",
       "      <th>12349.0</th>\n",
       "      <td>5</td>\n",
       "      <td>9241110.0</td>\n",
       "      <td>1848222.0</td>\n",
       "    </tr>\n",
       "    <tr>\n",
       "      <th>12350.0</th>\n",
       "      <td>1</td>\n",
       "      <td>366386.0</td>\n",
       "      <td>366386.0</td>\n",
       "    </tr>\n",
       "  </tbody>\n",
       "</table>\n",
       "</div>"
      ],
      "text/plain": [
       "             Invoice      weight  weighted GDP\n",
       "Customer ID                                   \n",
       "12346.0           17  44851032.0     2638296.0\n",
       "12347.0            8    166440.0       20805.0\n",
       "12348.0            5   1339280.0      267856.0\n",
       "12349.0            5   9241110.0     1848222.0\n",
       "12350.0            1    366386.0      366386.0"
      ]
     },
     "execution_count": 20,
     "metadata": {},
     "output_type": "execute_result"
    }
   ],
   "source": [
    "customer_countries['weight']=customer_countries['Invoice']*customer_countries['GDP']\n",
    "customer_countries=customer_countries.groupby(['Customer ID']).agg({'Invoice':'sum',\n",
    "                                                               'weight':'sum'})\n",
    "customer_countries['weighted GDP']=customer_countries['weight']/customer_countries['Invoice']\n",
    "customer_countries.head()"
   ]
  },
  {
   "cell_type": "markdown",
   "metadata": {
    "id": "JJ2gicjYW4F4"
   },
   "source": [
    "### Customer Segmentation based on RFM - Country GDP\n",
    "In this section we perform customer segmentation based on RFM-GDP. We use k-Means and hierarchical clustering."
   ]
  },
  {
   "cell_type": "markdown",
   "metadata": {
    "id": "DSc9Csi3ZZdd"
   },
   "source": [
    "### Join RFM - Country GDP\n",
    "First, we join RFM and GDP data. The result will be the input to clustering algorithms.\n"
   ]
  },
  {
   "cell_type": "code",
   "execution_count": 21,
   "metadata": {
    "colab": {
     "base_uri": "https://localhost:8080/",
     "height": 238
    },
    "id": "Y1PKUhuI6AsR",
    "outputId": "140ebb70-78c7-468b-eb2c-4ddca1693b15"
   },
   "outputs": [
    {
     "data": {
      "text/html": [
       "<div>\n",
       "<style scoped>\n",
       "    .dataframe tbody tr th:only-of-type {\n",
       "        vertical-align: middle;\n",
       "    }\n",
       "\n",
       "    .dataframe tbody tr th {\n",
       "        vertical-align: top;\n",
       "    }\n",
       "\n",
       "    .dataframe thead th {\n",
       "        text-align: right;\n",
       "    }\n",
       "</style>\n",
       "<table border=\"1\" class=\"dataframe\">\n",
       "  <thead>\n",
       "    <tr style=\"text-align: right;\">\n",
       "      <th></th>\n",
       "      <th>recency</th>\n",
       "      <th>frequency</th>\n",
       "      <th>monetary_value</th>\n",
       "      <th>weighted GDP</th>\n",
       "    </tr>\n",
       "    <tr>\n",
       "      <th>Customer ID</th>\n",
       "      <th></th>\n",
       "      <th></th>\n",
       "      <th></th>\n",
       "      <th></th>\n",
       "    </tr>\n",
       "  </thead>\n",
       "  <tbody>\n",
       "    <tr>\n",
       "      <th>12346.0</th>\n",
       "      <td>325</td>\n",
       "      <td>42.647059</td>\n",
       "      <td>-3.804706</td>\n",
       "      <td>2638296.0</td>\n",
       "    </tr>\n",
       "    <tr>\n",
       "      <th>12347.0</th>\n",
       "      <td>1</td>\n",
       "      <td>50.375000</td>\n",
       "      <td>704.165000</td>\n",
       "      <td>20805.0</td>\n",
       "    </tr>\n",
       "    <tr>\n",
       "      <th>12348.0</th>\n",
       "      <td>74</td>\n",
       "      <td>87.400000</td>\n",
       "      <td>403.880000</td>\n",
       "      <td>267856.0</td>\n",
       "    </tr>\n",
       "    <tr>\n",
       "      <th>12349.0</th>\n",
       "      <td>18</td>\n",
       "      <td>147.000000</td>\n",
       "      <td>880.908000</td>\n",
       "      <td>1848222.0</td>\n",
       "    </tr>\n",
       "    <tr>\n",
       "      <th>12350.0</th>\n",
       "      <td>309</td>\n",
       "      <td>309.000000</td>\n",
       "      <td>334.400000</td>\n",
       "      <td>366386.0</td>\n",
       "    </tr>\n",
       "  </tbody>\n",
       "</table>\n",
       "</div>"
      ],
      "text/plain": [
       "             recency   frequency  monetary_value  weighted GDP\n",
       "Customer ID                                                   \n",
       "12346.0          325   42.647059       -3.804706     2638296.0\n",
       "12347.0            1   50.375000      704.165000       20805.0\n",
       "12348.0           74   87.400000      403.880000      267856.0\n",
       "12349.0           18  147.000000      880.908000     1848222.0\n",
       "12350.0          309  309.000000      334.400000      366386.0"
      ]
     },
     "execution_count": 21,
     "metadata": {},
     "output_type": "execute_result"
    }
   ],
   "source": [
    "customer_RFM_GDP=pd.merge(customer_rfm,customer_countries,on='Customer ID')\n",
    "customer_RFM_GDP=customer_RFM_GDP.drop(['Invoice','weight'],axis=1)\n",
    "customer_RFM_GDP.head()"
   ]
  },
  {
   "cell_type": "markdown",
   "metadata": {
    "id": "Rxn3hxJ1qw1g"
   },
   "source": [
    "Check for NAs"
   ]
  },
  {
   "cell_type": "code",
   "execution_count": 22,
   "metadata": {
    "colab": {
     "base_uri": "https://localhost:8080/",
     "height": 81
    },
    "id": "TYnF_6mY7Lrn",
    "outputId": "bf205f64-b2d4-4029-ccc7-98fe0e844d27"
   },
   "outputs": [
    {
     "data": {
      "text/html": [
       "<div>\n",
       "<style scoped>\n",
       "    .dataframe tbody tr th:only-of-type {\n",
       "        vertical-align: middle;\n",
       "    }\n",
       "\n",
       "    .dataframe tbody tr th {\n",
       "        vertical-align: top;\n",
       "    }\n",
       "\n",
       "    .dataframe thead th {\n",
       "        text-align: right;\n",
       "    }\n",
       "</style>\n",
       "<table border=\"1\" class=\"dataframe\">\n",
       "  <thead>\n",
       "    <tr style=\"text-align: right;\">\n",
       "      <th></th>\n",
       "      <th>recency</th>\n",
       "      <th>frequency</th>\n",
       "      <th>monetary_value</th>\n",
       "      <th>weighted GDP</th>\n",
       "    </tr>\n",
       "    <tr>\n",
       "      <th>Customer ID</th>\n",
       "      <th></th>\n",
       "      <th></th>\n",
       "      <th></th>\n",
       "      <th></th>\n",
       "    </tr>\n",
       "  </thead>\n",
       "  <tbody>\n",
       "  </tbody>\n",
       "</table>\n",
       "</div>"
      ],
      "text/plain": [
       "Empty DataFrame\n",
       "Columns: [recency, frequency, monetary_value, weighted GDP]\n",
       "Index: []"
      ]
     },
     "execution_count": 22,
     "metadata": {},
     "output_type": "execute_result"
    }
   ],
   "source": [
    "customer_RFM_GDP[customer_RFM_GDP.isnull().any(axis=1)]"
   ]
  },
  {
   "cell_type": "markdown",
   "metadata": {
    "id": "KF_EfckZS6mE"
   },
   "source": [
    "### Customer clustering\n",
    "This is the section with the actual customer clustering."
   ]
  },
  {
   "cell_type": "markdown",
   "metadata": {
    "id": "stdsQDCfTJ85"
   },
   "source": [
    "#### k-Means\n",
    "We scale the input matrix and use the elbow method to decide the number of customer clusters."
   ]
  },
  {
   "cell_type": "code",
   "execution_count": 23,
   "metadata": {
    "colab": {
     "base_uri": "https://localhost:8080/",
     "height": 295
    },
    "id": "Fov9l2EQYQmD",
    "outputId": "88a2b053-a702-4c65-caef-fcda4a2a46c5"
   },
   "outputs": [
    {
     "data": {
      "image/png": "[encoded data removed]",
      "text/plain": [
       "<Figure size 432x288 with 1 Axes>"
      ]
     },
     "metadata": {
      "needs_background": "light"
     },
     "output_type": "display_data"
    }
   ],
   "source": [
    "scaler = StandardScaler()\n",
    "X_std = scaler.fit_transform(customer_RFM_GDP)\n",
    "Sum_of_squared_distances = []\n",
    "K = range(2,13)\n",
    "for k in K:\n",
    "    km = KMeans(n_clusters=k, max_iter=5000, n_init=500, random_state=100) \n",
    "    km = km.fit(X_std)\n",
    "    Sum_of_squared_distances.append(km.inertia_)\n",
    "\n",
    "plt.plot(K, Sum_of_squared_distances, 'bx-')\n",
    "plt.xlabel('k')\n",
    "plt.ylabel('Sum_of_squared_distances')\n",
    "plt.title('Elbow Method For Optimal k')\n",
    "plt.show()"
   ]
  },
  {
   "cell_type": "markdown",
   "metadata": {
    "id": "NinxrQrHTb5v"
   },
   "source": [
    "First, we select 3 as the number of clusters."
   ]
  },
  {
   "cell_type": "code",
   "execution_count": 24,
   "metadata": {
    "colab": {
     "base_uri": "https://localhost:8080/"
    },
    "id": "3c11P72Et_S9",
    "outputId": "66b01e38-3779-4113-bb62-3ea85b9d8a58"
   },
   "outputs": [
    {
     "name": "stdout",
     "output_type": "stream",
     "text": [
      "0    4225\n",
      "1    1708\n",
      "2       9\n",
      "Name: cluster, dtype: int64\n"
     ]
    }
   ],
   "source": [
    "# set number of clusters\n",
    "true_k = 3\n",
    "# perform k-means clustering \n",
    "model = KMeans(n_clusters=true_k, max_iter=5000, n_init=500, random_state=100) \n",
    "model.fit(X_std)\n",
    "# append cluster assignment for each item set\n",
    "customer_RFM_GDP['cluster']=model.labels_\n",
    "# print number of items per cluster\n",
    "print(customer_RFM_GDP['cluster'].value_counts())"
   ]
  },
  {
   "cell_type": "markdown",
   "metadata": {
    "id": "Mhe1hnhaTsHT"
   },
   "source": [
    "Function cluster_profile_RFM_country will be used to profile clusters. There is a cut off parameter that can be used to exclude from the profilling clusters with small cardinality."
   ]
  },
  {
   "cell_type": "code",
   "execution_count": 25,
   "metadata": {
    "id": "poHl8wpFDzNz"
   },
   "outputs": [],
   "source": [
    "def cluster_profile_RFM_country(customer_clustering,cut_off=0):\n",
    "  ''' profile clusters '''\n",
    "\n",
    "  customer_clusters=customer_clustering.reset_index().groupby(['cluster']).agg({'Customer ID':['count'], \n",
    "                                                         'recency':'median',\n",
    "                                                         'frequency':'median',\n",
    "                                                         'monetary_value':'median',\n",
    "                                                         'weighted GDP':'median'})\n",
    "  idx= customer_clusters['Customer ID']>=cut_off\n",
    "  idx=idx['count'].to_list()\n",
    "  customer_clusters=customer_clusters[idx]\n",
    "  print(customer_clusters)\n",
    "  print('\\n')\n",
    "  customer_clusters_sum=customer_clusters.sum(axis=0)\n",
    "  #print(customer_clusters_sum)\n",
    "  customer_clusters['monetary_value']=100*customer_clusters['monetary_value']/customer_clusters_sum['monetary_value']\n",
    "  customer_clusters['frequency']=100*customer_clusters['frequency']/customer_clusters_sum['frequency']\n",
    "  customer_clusters['recency']=100*customer_clusters['recency']/customer_clusters_sum['recency']\n",
    "  customer_clusters['weighted GDP']=100*customer_clusters['weighted GDP']/customer_clusters_sum['weighted GDP']\n",
    "  print(customer_clusters)\n",
    "  print('\\n')\n",
    "  \n",
    "  print('HEAT map')\n",
    "  print('Numbers are column percentages')\n",
    "  sns.heatmap(customer_clusters.drop(['Customer ID'],axis=1), annot=True,  linewidths=.5)\n"
   ]
  },
  {
   "cell_type": "markdown",
   "metadata": {
    "id": "ML3dHWIeqDct"
   },
   "source": [
    "Examining the two clusters with more than 100 items, we see that:\n",
    "* cluster 0 contains customers that shopped more recently than cluster 1 (customers in cluster 0 shopped 9 days ago while cluster 1 91 days ago),\n",
    "* cluster 0 contains customers that bought less frequently than cluster 1 (customers in cluster 0 shop every 66 days while in cluster 1 every 364 days),\n",
    "* cluster 0 contains customers with more monetary value than cluster (cluster 0 has a median of 243 for monetary value, while cluster 1 197)\n"
   ]
  },
  {
   "cell_type": "code",
   "execution_count": 26,
   "metadata": {
    "colab": {
     "base_uri": "https://localhost:8080/",
     "height": 678
    },
    "id": "DWoWvNgviR1q",
    "outputId": "80cc716b-4071-4d7d-b194-f879344bd917"
   },
   "outputs": [
    {
     "name": "stdout",
     "output_type": "stream",
     "text": [
      "        Customer ID recency   frequency monetary_value weighted GDP\n",
      "              count  median      median         median       median\n",
      "cluster                                                            \n",
      "0              4225    45.0   65.545455         243.41    2638296.0\n",
      "1              1708   463.0  364.000000         196.91    2638296.0\n",
      "\n",
      "\n",
      "        Customer ID    recency  frequency monetary_value weighted GDP\n",
      "              count     median     median         median       median\n",
      "cluster                                                              \n",
      "0              4225   8.858268  15.259259      55.280251         50.0\n",
      "1              1708  91.141732  84.740741      44.719749         50.0\n",
      "\n",
      "\n",
      "HEAT map\n",
      "Numbers are column percentages\n"
     ]
    },
    {
     "data": {
      "image/png": "[encoded data removed]",
      "text/plain": [
       "<Figure size 432x288 with 2 Axes>"
      ]
     },
     "metadata": {
      "needs_background": "light"
     },
     "output_type": "display_data"
    }
   ],
   "source": [
    "cluster_profile_RFM_country(customer_RFM_GDP,cut_off=100)"
   ]
  },
  {
   "cell_type": "markdown",
   "metadata": {
    "id": "SVzHj_xZspBY"
   },
   "source": [
    "Selecting 7 as the number of clusters, we obtain 4 clusters with cardinality bigger than 100."
   ]
  },
  {
   "cell_type": "code",
   "execution_count": 27,
   "metadata": {
    "colab": {
     "base_uri": "https://localhost:8080/"
    },
    "id": "TMCy1yjvs87f",
    "outputId": "9ff077dc-843f-425b-882e-6fab0de28bbf"
   },
   "outputs": [
    {
     "name": "stdout",
     "output_type": "stream",
     "text": [
      "0    3545\n",
      "3    1547\n",
      "5     577\n",
      "1     246\n",
      "6      17\n",
      "2       9\n",
      "4       1\n",
      "Name: cluster, dtype: int64\n"
     ]
    }
   ],
   "source": [
    "# set number of clusters\n",
    "true_k = 7\n",
    "# perform k-means clustering \n",
    "model = KMeans(n_clusters=true_k, max_iter=5000, n_init=500, random_state=100) \n",
    "model.fit(X_std)\n",
    "# append cluster assignment for each item set\n",
    "customer_RFM_GDP['cluster']=model.labels_\n",
    "# print number of items per cluster\n",
    "print(customer_RFM_GDP['cluster'].value_counts())"
   ]
  },
  {
   "cell_type": "markdown",
   "metadata": {
    "id": "Qxha1ir7tkrm"
   },
   "source": [
    "Examining the two clusters with more than 100 items, we see that:\n",
    "* clusters 2 and 5 contain more frequent customers, wich shop more frequently and their invoice have greter monetary vlaue,\n",
    "* cluster 5 contains customers from countries with lower GDP than the rest of the clusters\n",
    "* cluster 4 has the customers with the lowest RFM score."
   ]
  },
  {
   "cell_type": "code",
   "execution_count": 28,
   "metadata": {
    "colab": {
     "base_uri": "https://localhost:8080/",
     "height": 748
    },
    "id": "1LxJYlcmivVR",
    "outputId": "5a8aa5b0-8c33-4397-9e31-5fa2aaa763cb"
   },
   "outputs": [
    {
     "name": "stdout",
     "output_type": "stream",
     "text": [
      "        Customer ID recency   frequency monetary_value weighted GDP\n",
      "              count  median      median         median       median\n",
      "cluster                                                            \n",
      "0              3545    34.0   58.636364      243.88020    2638296.0\n",
      "1               246    78.5   92.062500      393.26817     503416.0\n",
      "3              1547   389.0  227.000000      205.25000    2638296.0\n",
      "5               577   619.0  602.000000      167.16000    2638296.0\n",
      "\n",
      "\n",
      "        Customer ID    recency  frequency monetary_value weighted GDP\n",
      "              count     median     median         median       median\n",
      "cluster                                                              \n",
      "0              3545   3.034360   5.985142      24.157117    31.339994\n",
      "1               246   7.005801   9.397020      38.954476     5.980017\n",
      "3              1547  34.716644  23.170385      20.330672    31.339994\n",
      "5               577  55.243195  61.447453      16.557735    31.339994\n",
      "\n",
      "\n",
      "HEAT map\n",
      "Numbers are column percentages\n"
     ]
    },
    {
     "data": {
      "image/png": "[encoded data removed]",
      "text/plain": [
       "<Figure size 432x288 with 2 Axes>"
      ]
     },
     "metadata": {
      "needs_background": "light"
     },
     "output_type": "display_data"
    }
   ],
   "source": [
    "cluster_profile_RFM_country(customer_RFM_GDP,cut_off=100)"
   ]
  },
  {
   "cell_type": "markdown",
   "metadata": {
    "id": "hx_fgqWy3HDC"
   },
   "source": [
    "We store results of k-means clusterig with 7 clusters."
   ]
  },
  {
   "cell_type": "code",
   "execution_count": 29,
   "metadata": {
    "id": "1RWBYRBNlHFm"
   },
   "outputs": [],
   "source": [
    "customer_RFM_GDP_k_Means=customer_RFM_GDP.copy()"
   ]
  },
  {
   "cell_type": "markdown",
   "metadata": {
    "id": "pgJfkPNIUkBi"
   },
   "source": [
    "#### Hierachical clustering\n",
    "Using hierachical clustering we can gain a better understanding of the possible number of clusters."
   ]
  },
  {
   "cell_type": "code",
   "execution_count": 30,
   "metadata": {
    "colab": {
     "base_uri": "https://localhost:8080/",
     "height": 896
    },
    "id": "52hr_tOWlWWZ",
    "outputId": "bc131644-6c57-4faf-8ff9-68739413cf11"
   },
   "outputs": [
    {
     "data": {
      "image/png": "[encoded data removed]",
      "text/plain": [
       "<Figure size 1080x1080 with 1 Axes>"
      ]
     },
     "metadata": {
      "needs_background": "light"
     },
     "output_type": "display_data"
    }
   ],
   "source": [
    "# source https://scikit-learn.org/stable/auto_examples/cluster/plot_agglomerative_dendrogram.html\n",
    "def plot_dendrogram(model, **kwargs):\n",
    "    # Create linkage matrix and then plot the dendrogram\n",
    "\n",
    "    # create the counts of samples under each node\n",
    "    counts = np.zeros(model.children_.shape[0])\n",
    "    n_samples = len(model.labels_)\n",
    "    for i, merge in enumerate(model.children_):\n",
    "        current_count = 0\n",
    "        for child_idx in merge:\n",
    "            if child_idx < n_samples:\n",
    "                current_count += 1  # leaf node\n",
    "            else:\n",
    "                current_count += counts[child_idx - n_samples]\n",
    "        counts[i] = current_count\n",
    "\n",
    "    linkage_matrix = np.column_stack([model.children_, model.distances_,\n",
    "                                      counts]).astype(float)\n",
    "\n",
    "    # Plot the corresponding dendrogram\n",
    "    dendrogram(linkage_matrix, **kwargs)\n",
    "\n",
    "\n",
    "\n",
    "# setting distance_threshold=0 ensures we compute the full tree.\n",
    "model = AgglomerativeClustering(distance_threshold=0, n_clusters=None,linkage='ward')\n",
    "\n",
    "model = model.fit(X_std)\n",
    "plt.figure(figsize=(15,15))\n",
    "plt.title('Hierarchical Clustering Dendrogram')\n",
    "# plot the top three levels of the dendrogram\n",
    "plot_dendrogram(model, truncate_mode='level', p=3)\n",
    "plt.xlabel(\"Number of points in node (or index of point if no parenthesis).\")\n",
    "plt.show()"
   ]
  },
  {
   "cell_type": "markdown",
   "metadata": {
    "id": "5Ooq3tdqU9wl"
   },
   "source": [
    "Examining the two clustering solution of hierachical clustering, we see that we end up with clusters similiar to the two major clusters of our first k-means try. "
   ]
  },
  {
   "cell_type": "code",
   "execution_count": 31,
   "metadata": {
    "colab": {
     "base_uri": "https://localhost:8080/"
    },
    "id": "YshCmnV1uyVB",
    "outputId": "76ee3bf7-7273-4dc0-cc4d-89b233734599"
   },
   "outputs": [
    {
     "name": "stdout",
     "output_type": "stream",
     "text": [
      "1    4151\n",
      "0    1791\n",
      "Name: cluster, dtype: int64\n"
     ]
    }
   ],
   "source": [
    "model = AgglomerativeClustering(n_clusters=2,linkage='ward')\n",
    "model.fit(X_std)\n",
    "# append cluster assignment for each item set\n",
    "customer_RFM_GDP['cluster']=model.labels_\n",
    "# print number of items per cluster\n",
    "print(customer_RFM_GDP['cluster'].value_counts())"
   ]
  },
  {
   "cell_type": "code",
   "execution_count": 36,
   "metadata": {
    "colab": {
     "base_uri": "https://localhost:8080/",
     "height": 678
    },
    "id": "odfN9KUhBiXF",
    "outputId": "23337da6-56ee-4315-f5f5-2afb033bdd9c"
   },
   "outputs": [
    {
     "name": "stdout",
     "output_type": "stream",
     "text": [
      "        Customer ID recency frequency monetary_value weighted GDP\n",
      "              count  median    median         median       median\n",
      "cluster                                                          \n",
      "0              1791   446.0     336.5     196.016667    2638296.0\n",
      "1              4151    43.0      64.0     244.800000    2638296.0\n",
      "\n",
      "\n",
      "        Customer ID    recency  frequency monetary_value weighted GDP\n",
      "              count     median     median         median       median\n",
      "cluster                                                              \n",
      "0              1791  91.206544  84.019975       44.46671         50.0\n",
      "1              4151   8.793456  15.980025       55.53329         50.0\n",
      "\n",
      "\n",
      "HEAT map\n",
      "Numbers are column percentages\n"
     ]
    },
    {
     "data": {
      "image/png": "[encoded data removed]",
      "text/plain": [
       "<Figure size 432x288 with 2 Axes>"
      ]
     },
     "metadata": {},
     "output_type": "display_data"
    }
   ],
   "source": [
    "cluster_profile_RFM_country(customer_RFM_GDP,cut_off=100)"
   ]
  },
  {
   "cell_type": "markdown",
   "metadata": {
    "id": "RG8Gy36M4tVe"
   },
   "source": [
    "The same applies when we try with 7 clusters in hierachical clustering. The results are similar to k-means."
   ]
  },
  {
   "cell_type": "code",
   "execution_count": 32,
   "metadata": {
    "colab": {
     "base_uri": "https://localhost:8080/"
    },
    "id": "hDce9mrO4cHY",
    "outputId": "70b865c3-03b5-4f33-e04d-abc21418091c"
   },
   "outputs": [
    {
     "name": "stdout",
     "output_type": "stream",
     "text": [
      "0    3867\n",
      "4    1275\n",
      "1     506\n",
      "6     269\n",
      "2      15\n",
      "5       9\n",
      "3       1\n",
      "Name: cluster, dtype: int64\n"
     ]
    }
   ],
   "source": [
    "model = AgglomerativeClustering(n_clusters=7,linkage='ward')\n",
    "model.fit(X_std)\n",
    "# append cluster assignment for each item set\n",
    "customer_RFM_GDP['cluster']=model.labels_\n",
    "# print number of items per cluster\n",
    "print(customer_RFM_GDP['cluster'].value_counts())\n",
    "#cluster_profile_RFM_country(customer_RFM_GDP,cut_off=100)"
   ]
  },
  {
   "cell_type": "markdown",
   "metadata": {
    "id": "a0SJXWjz4568"
   },
   "source": [
    "We will store the results of k-means clustering into 7 clusters."
   ]
  },
  {
   "cell_type": "code",
   "execution_count": 37,
   "metadata": {
    "id": "fTpTNxKXLGxH"
   },
   "outputs": [],
   "source": [
    "customer_RFM_GDP_k_Means.to_pickle('customer_segments_RFM_country.pickle')"
   ]
  },
  {
   "cell_type": "markdown",
   "metadata": {
    "id": "71GHKSNP5_R6"
   },
   "source": [
    "Here, we will focus on a few customer segments. Based on their profile we can try to give a name to each group.\n",
    "\n",
    "1. “High-value average customer”: the biggest segment has 2.501 (42.09% of the total). It contains customers that belong in cluster 1 of items category segmentation and cluster 4 of RFM-country based segmentation. This means that the customers in this segment shop from the general item’s category (i.e. they are not focused on bags, decoration, or Christmas items) and have relatively high RFM score.\n",
    "2. “High-value Christmas shopper”: segment in item category cluster 0 and RFM-Country cluster 4. In our item category clustering, we have identified that cluster 0 corresponds to customers that have a tendency to buy more Christmas items. This segment contains 289 (4.86%) customers.\n",
    "3. “High-value decoration lovers”: segment in item category cluster 2 and RFM-Country cluster 4. In our item category clustering, we have identified that cluster 2 corresponds to customers that have a preference for bags. This segment contains 489 (8.23%) customers.\n",
    "4. “Low-value decoration lovers”: segment in item category cluster 2 and RFM-Country cluster 1. This segment contains 69 (1.16%) customers. We could add to this segment customers in item category cluster 2 and RFM-Country cluster 2. This way the segment would contain 305 (5.13%) customers.\n",
    "5. “High-value bag lovers”: segment in item category cluster 3 and RFM-Country cluster 4. In our item category clustering, we have identified that cluster 2 corresponds to customers that have a preference in decoration. This segment contains 270 (4.54%) customers.\n",
    "6. “Low-value bag lovers”: segment in item category cluster 3 and RFM-Country cluster 1. This segment contains 42 (0.71%) customers. We could assign to this segment and customers in item category cluster 1 and RFM-Country cluster 2. This way the segment would contain 132 (2.22%) customers."
   ]
  },
  {
   "cell_type": "markdown",
   "metadata": {
    "id": "oOxwKOj06IJX"
   },
   "source": [
    " In a real-world scenario, a more detailed description of each segment would be provided. For every segment, we would have calculated several KPIs like:\n",
    "\n",
    "1. total cost per segment,\n",
    "2. average cost per customer\n",
    "3. average cost per customer per transaction/invoice\n",
    "4. number of transactions/invoices per customer\n",
    "5. average frequency per customer\n",
    "6. country distribution per customer, e.t.c."
   ]
  },
  {
   "cell_type": "code",
   "execution_count": null,
   "metadata": {
    "id": "O3Hd28RK5zY4"
   },
   "outputs": [],
   "source": []
  }
 ],
 "metadata": {
  "colab": {
   "collapsed_sections": [],
   "name": "Online_retail_Segmentation_by_RFM_Country.ipynb",
   "provenance": []
  },
  "kernelspec": {
   "display_name": "Python 3.8.9 64-bit",
   "language": "python",
   "name": "python3"
  },
  "language_info": {
   "codemirror_mode": {
    "name": "ipython",
    "version": 3
   },
   "file_extension": ".py",
   "mimetype": "text/x-python",
   "name": "python",
   "nbconvert_exporter": "python",
   "pygments_lexer": "ipython3",
   "version": "3.8.9"
  },
  "vscode": {
   "interpreter": {
    "hash": "31f2aee4e71d21fbe5cf8b01ff0e069b9275f58929596ceb00d14d90e3e16cd6"
   }
  }
 },
 "nbformat": 4,
 "nbformat_minor": 1
}
